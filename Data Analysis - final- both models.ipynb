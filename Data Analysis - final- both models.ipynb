{
 "cells": [
  {
   "cell_type": "markdown",
   "metadata": {},
   "source": [
    "<h1>Table of Contents<span class=\"tocSkip\"></span></h1>\n",
    "\n",
    "<div class=\"toc\"><ul class=\"toc-item\"><li><span><a href=\"#Introduction\" data-toc-modified-id=\"Introduction-1\"><span class=\"toc-item-num\">1&nbsp;&nbsp;</span>Introduction</a></span>\n",
    "    \n",
    "<ul class=\"toc-item\">   \n",
    "    \n",
    "<li><span><a href=\"#Dataset info\" data-toc-modified-id=\"Dataset info-1.1\"><span class=\"toc-item-num\">1.1&nbsp;&nbsp;</span>Dataset info</a></span>\n",
    "\n",
    "</li><li><span><a href=\"#Methodology\" data-toc-modified-id=\"Methodology-1.2\"><span class=\"toc-item-num\">1.2&nbsp;&nbsp;</span>Methodology</a></span></li>\n",
    "\n",
    "<li><span><a href=\"#Goal\" data-toc-modified-id=\"Goal-1.3\"><span class=\"toc-item-num\">1.3&nbsp;&nbsp;</span>Goal</a></span>\n",
    "\n",
    "</ul></li>\n",
    "\n",
    "<li><span><a href=\"#Import-Packages-&amp;-Data\" data-toc-modified-id=\"Import-Packages-&amp;-Data-2\"><span class=\"toc-item-num\">2&nbsp;&nbsp;</span>Import Packages &amp; Data</a></span><ul class=\"toc-item\"><li><span><a href=\"#Import-Packages\" data-toc-modified-id=\"Import-Packages-2.1\"><span class=\"toc-item-num\">2.1&nbsp;&nbsp;</span>Import Packages</a></span></li><li><span><a href=\"#Import-Data\" data-toc-modified-id=\"Import-Data-2.2\"><span class=\"toc-item-num\">2.2&nbsp;&nbsp;</span>Import Data</a></span></li></ul></li>\n",
    "\n",
    "<li><span><a href=\"#Data Analysis and Visualizations\" data-toc-modified-id=\"Data Analysis and Visualizations-3\"><span class=\"toc-item-num\">3&nbsp;&nbsp;</span>Data Analysis and Visualizations</a></span>\n",
    "    \n",
    "<li><span><a href=\"#'Tweet' Column\" data-toc-modified-id=\"'Tweet' Column-3.1\"><span class=\"toc-item-num\">3.1&nbsp;&nbsp;</span>Tweet Column</a></span>\n",
    "    \n",
    "<li><span><a href=\"#'Brand' Column\" data-toc-modified-id=\"'Brand' Column-3.2\"><span class=\"toc-item-num\">3.2&nbsp;&nbsp;</span>'Brand' Column</a></span>\n",
    "    \n",
    "<li><span><a href=\"#'Sentiment' Column\" data-toc-modified-id=\"'Sentiment' Column-3.3\"><span class=\"toc-item-num\">3.3&nbsp;&nbsp;</span>'Sentiment' Column</a></span>\n",
    "    \n",
    "\n",
    "<li><span><a href=\"#Pre-processing\" data-toc-modified-id=\"Pre-processing-4\"><span class=\"toc-item-num\">4&nbsp;&nbsp;</span>Pre-processing</a></span>\n",
    "    \n",
    "   "
   ]
  },
  {
   "cell_type": "markdown",
   "metadata": {},
   "source": [
    "# Introduction"
   ]
  },
  {
   "cell_type": "markdown",
   "metadata": {},
   "source": [
    "## Dataset Info"
   ]
  },
  {
   "cell_type": "markdown",
   "metadata": {},
   "source": [
    "The dataset for this analysis can be found <a href=\"https://data.world/crowdflower/brands-and-product-emotions\">here </a>\n",
    "\n",
    "DESCRIPTION\n",
    "\n",
    "Judge Emotion About Apple and Google Brands Products.\n",
    "\n",
    "SUMMARY\n",
    "\n",
    "The dataset has 3 column:\n",
    "\n",
    " 'Tweet' - Tweet text,\n",
    " \n",
    " 'Brand' - Brand the tweet is refering to,\n",
    " \n",
    " 'Sentiment' - Sentiment expressed in the tweet.\n",
    "\n",
    "Acording to the website contributors were asked to evaluated tweets about Apple and Google brands and products. They were asked to label tweets as:\n",
    "\n",
    " 'No emotion toward brand or product'\n",
    " \n",
    " 'Positive emotion'\n",
    " \n",
    " 'Negative emotion' \n",
    " \n",
    " 'I can't tell'.  \n",
    "\n",
    "\n",
    "The dataset was added on August 30, 2013 by Kent Cavender-Bares \n",
    "\n"
   ]
  },
  {
   "cell_type": "markdown",
   "metadata": {},
   "source": [
    "## Methodology"
   ]
  },
  {
   "cell_type": "markdown",
   "metadata": {},
   "source": [
    "\n",
    "We will adopt the OSEMiN data science workflow following the steps below:\n",
    "\n",
    "Obtain (import the data)\n",
    "\n",
    "Scrub (clean the data, deal with missing values and data types)\n",
    "\n",
    "Explore (answer descriptives questions using EDA)\n",
    "\n",
    "Model (build our predictive model)\n",
    "\n",
    "Interpret (comment on our model and findings)\n",
    "\n",
    "Having a machine learning model that can predict if a patient has or does not have heart disease could potentially save time in diagnosing the patient and may reduce the likelihood of a misclassification when used in conjunction with the doctor. This analysis will look at six different machine learning techniques."
   ]
  },
  {
   "cell_type": "markdown",
   "metadata": {},
   "source": [
    "## Goal"
   ]
  },
  {
   "cell_type": "markdown",
   "metadata": {},
   "source": [
    "Our goal is to create an efficient and accurate tweet classification system that can help companies identify negative tweets to be adressed by the customer service team, and positive tweets to be showcased and used for training purposes. "
   ]
  },
  {
   "cell_type": "markdown",
   "metadata": {},
   "source": [
    "# Import Packages and Data"
   ]
  },
  {
   "cell_type": "markdown",
   "metadata": {},
   "source": [
    "## Import Packages"
   ]
  },
  {
   "cell_type": "code",
   "execution_count": 1,
   "metadata": {},
   "outputs": [
    {
     "name": "stdout",
     "output_type": "stream",
     "text": [
      "Requirement already satisfied: wordcloud in /Users/lauravlad/opt/anaconda3/envs/learn-env/lib/python3.6/site-packages (1.8.1)\r\n",
      "Requirement already satisfied: numpy>=1.6.1 in /Users/lauravlad/opt/anaconda3/envs/learn-env/lib/python3.6/site-packages (from wordcloud) (1.16.5)\r\n",
      "Requirement already satisfied: pillow in /Users/lauravlad/opt/anaconda3/envs/learn-env/lib/python3.6/site-packages (from wordcloud) (6.2.1)\r\n",
      "Requirement already satisfied: matplotlib in /Users/lauravlad/opt/anaconda3/envs/learn-env/lib/python3.6/site-packages (from wordcloud) (3.1.1)\r\n",
      "Requirement already satisfied: cycler>=0.10 in /Users/lauravlad/opt/anaconda3/envs/learn-env/lib/python3.6/site-packages (from matplotlib->wordcloud) (0.10.0)\r\n",
      "Requirement already satisfied: kiwisolver>=1.0.1 in /Users/lauravlad/opt/anaconda3/envs/learn-env/lib/python3.6/site-packages (from matplotlib->wordcloud) (1.1.0)\r\n",
      "Requirement already satisfied: pyparsing!=2.0.4,!=2.1.2,!=2.1.6,>=2.0.1 in /Users/lauravlad/opt/anaconda3/envs/learn-env/lib/python3.6/site-packages (from matplotlib->wordcloud) (2.4.2)\r\n",
      "Requirement already satisfied: python-dateutil>=2.1 in /Users/lauravlad/opt/anaconda3/envs/learn-env/lib/python3.6/site-packages (from matplotlib->wordcloud) (2.8.0)\r\n",
      "Requirement already satisfied: six in /Users/lauravlad/opt/anaconda3/envs/learn-env/lib/python3.6/site-packages (from cycler>=0.10->matplotlib->wordcloud) (1.12.0)\r\n",
      "Requirement already satisfied: setuptools in /Users/lauravlad/opt/anaconda3/envs/learn-env/lib/python3.6/site-packages (from kiwisolver>=1.0.1->matplotlib->wordcloud) (41.2.0)\r\n"
     ]
    }
   ],
   "source": [
    "!pip install wordcloud"
   ]
  },
  {
   "cell_type": "code",
   "execution_count": 2,
   "metadata": {},
   "outputs": [
    {
     "name": "stderr",
     "output_type": "stream",
     "text": [
      "[nltk_data] Downloading package wordnet to\n",
      "[nltk_data]     /Users/lauravlad/nltk_data...\n",
      "[nltk_data]   Package wordnet is already up-to-date!\n",
      "[nltk_data] Downloading package stopwords to\n",
      "[nltk_data]     /Users/lauravlad/nltk_data...\n",
      "[nltk_data]   Package stopwords is already up-to-date!\n"
     ]
    }
   ],
   "source": [
    "#Import useful libraries\n",
    "import re\n",
    "import numpy as np\n",
    "import pandas as pd\n",
    "import matplotlib\n",
    "import matplotlib.pyplot as plt\n",
    "import seaborn as sns\n",
    "%matplotlib inline\n",
    "\n",
    "import nltk\n",
    "from nltk import FreqDist\n",
    "from nltk import word_tokenize\n",
    "import string\n",
    "\n",
    "from nltk.collocations import *\n",
    "nltk.download('wordnet')\n",
    "nltk.download('stopwords')\n",
    "from nltk.corpus import stopwords\n",
    "from nltk.stem import PorterStemmer\n",
    "from wordcloud import WordCloud, STOPWORDS\n",
    "from nltk.stem import WordNetLemmatizer\n",
    "\n",
    "\n"
   ]
  },
  {
   "cell_type": "markdown",
   "metadata": {},
   "source": [
    "## Import Data"
   ]
  },
  {
   "cell_type": "code",
   "execution_count": 3,
   "metadata": {},
   "outputs": [
    {
     "data": {
      "text/html": [
       "<div>\n",
       "<style scoped>\n",
       "    .dataframe tbody tr th:only-of-type {\n",
       "        vertical-align: middle;\n",
       "    }\n",
       "\n",
       "    .dataframe tbody tr th {\n",
       "        vertical-align: top;\n",
       "    }\n",
       "\n",
       "    .dataframe thead th {\n",
       "        text-align: right;\n",
       "    }\n",
       "</style>\n",
       "<table border=\"1\" class=\"dataframe\">\n",
       "  <thead>\n",
       "    <tr style=\"text-align: right;\">\n",
       "      <th></th>\n",
       "      <th>tweet_text</th>\n",
       "      <th>emotion_in_tweet_is_directed_at</th>\n",
       "      <th>is_there_an_emotion_directed_at_a_brand_or_product</th>\n",
       "    </tr>\n",
       "  </thead>\n",
       "  <tbody>\n",
       "    <tr>\n",
       "      <td>0</td>\n",
       "      <td>.@wesley83 I have a 3G iPhone. After 3 hrs twe...</td>\n",
       "      <td>iPhone</td>\n",
       "      <td>Negative emotion</td>\n",
       "    </tr>\n",
       "    <tr>\n",
       "      <td>1</td>\n",
       "      <td>@jessedee Know about @fludapp ? Awesome iPad/i...</td>\n",
       "      <td>iPad or iPhone App</td>\n",
       "      <td>Positive emotion</td>\n",
       "    </tr>\n",
       "    <tr>\n",
       "      <td>2</td>\n",
       "      <td>@swonderlin Can not wait for #iPad 2 also. The...</td>\n",
       "      <td>iPad</td>\n",
       "      <td>Positive emotion</td>\n",
       "    </tr>\n",
       "    <tr>\n",
       "      <td>3</td>\n",
       "      <td>@sxsw I hope this year's festival isn't as cra...</td>\n",
       "      <td>iPad or iPhone App</td>\n",
       "      <td>Negative emotion</td>\n",
       "    </tr>\n",
       "    <tr>\n",
       "      <td>4</td>\n",
       "      <td>@sxtxstate great stuff on Fri #SXSW: Marissa M...</td>\n",
       "      <td>Google</td>\n",
       "      <td>Positive emotion</td>\n",
       "    </tr>\n",
       "  </tbody>\n",
       "</table>\n",
       "</div>"
      ],
      "text/plain": [
       "                                          tweet_text  \\\n",
       "0  .@wesley83 I have a 3G iPhone. After 3 hrs twe...   \n",
       "1  @jessedee Know about @fludapp ? Awesome iPad/i...   \n",
       "2  @swonderlin Can not wait for #iPad 2 also. The...   \n",
       "3  @sxsw I hope this year's festival isn't as cra...   \n",
       "4  @sxtxstate great stuff on Fri #SXSW: Marissa M...   \n",
       "\n",
       "  emotion_in_tweet_is_directed_at  \\\n",
       "0                          iPhone   \n",
       "1              iPad or iPhone App   \n",
       "2                            iPad   \n",
       "3              iPad or iPhone App   \n",
       "4                          Google   \n",
       "\n",
       "  is_there_an_emotion_directed_at_a_brand_or_product  \n",
       "0                                   Negative emotion  \n",
       "1                                   Positive emotion  \n",
       "2                                   Positive emotion  \n",
       "3                                   Negative emotion  \n",
       "4                                   Positive emotion  "
      ]
     },
     "execution_count": 3,
     "metadata": {},
     "output_type": "execute_result"
    }
   ],
   "source": [
    "#creating dataset\n",
    "dataset = pd.read_csv('list.csv', encoding ='latin1')\n",
    "dataset.head()"
   ]
  },
  {
   "cell_type": "markdown",
   "metadata": {},
   "source": [
    "# Data Analytics and Visualizations"
   ]
  },
  {
   "cell_type": "code",
   "execution_count": 4,
   "metadata": {},
   "outputs": [],
   "source": [
    "#change name of columns\n",
    "dataset.columns = [ 'Tweet','Brand', 'Sentiment' ]"
   ]
  },
  {
   "cell_type": "code",
   "execution_count": 5,
   "metadata": {},
   "outputs": [
    {
     "name": "stdout",
     "output_type": "stream",
     "text": [
      "<class 'pandas.core.frame.DataFrame'>\n",
      "RangeIndex: 9093 entries, 0 to 9092\n",
      "Data columns (total 3 columns):\n",
      "Tweet        9092 non-null object\n",
      "Brand        3291 non-null object\n",
      "Sentiment    9093 non-null object\n",
      "dtypes: object(3)\n",
      "memory usage: 213.2+ KB\n"
     ]
    }
   ],
   "source": [
    "#gathering information about the dataset\n",
    "dataset.info()"
   ]
  },
  {
   "cell_type": "markdown",
   "metadata": {},
   "source": [
    "We have one empty cell in the Tweet column and 5802 empty cells in the Brand column."
   ]
  },
  {
   "cell_type": "code",
   "execution_count": 6,
   "metadata": {},
   "outputs": [
    {
     "data": {
      "text/html": [
       "<div>\n",
       "<style scoped>\n",
       "    .dataframe tbody tr th:only-of-type {\n",
       "        vertical-align: middle;\n",
       "    }\n",
       "\n",
       "    .dataframe tbody tr th {\n",
       "        vertical-align: top;\n",
       "    }\n",
       "\n",
       "    .dataframe thead th {\n",
       "        text-align: right;\n",
       "    }\n",
       "</style>\n",
       "<table border=\"1\" class=\"dataframe\">\n",
       "  <thead>\n",
       "    <tr style=\"text-align: right;\">\n",
       "      <th></th>\n",
       "      <th>Tweet</th>\n",
       "      <th>Brand</th>\n",
       "      <th>Sentiment</th>\n",
       "    </tr>\n",
       "  </thead>\n",
       "  <tbody>\n",
       "    <tr>\n",
       "      <td>0</td>\n",
       "      <td>.@wesley83 I have a 3G iPhone. After 3 hrs twe...</td>\n",
       "      <td>iPhone</td>\n",
       "      <td>Negative emotion</td>\n",
       "    </tr>\n",
       "    <tr>\n",
       "      <td>1</td>\n",
       "      <td>@jessedee Know about @fludapp ? Awesome iPad/i...</td>\n",
       "      <td>iPad or iPhone App</td>\n",
       "      <td>Positive emotion</td>\n",
       "    </tr>\n",
       "    <tr>\n",
       "      <td>2</td>\n",
       "      <td>@swonderlin Can not wait for #iPad 2 also. The...</td>\n",
       "      <td>iPad</td>\n",
       "      <td>Positive emotion</td>\n",
       "    </tr>\n",
       "    <tr>\n",
       "      <td>3</td>\n",
       "      <td>@sxsw I hope this year's festival isn't as cra...</td>\n",
       "      <td>iPad or iPhone App</td>\n",
       "      <td>Negative emotion</td>\n",
       "    </tr>\n",
       "    <tr>\n",
       "      <td>4</td>\n",
       "      <td>@sxtxstate great stuff on Fri #SXSW: Marissa M...</td>\n",
       "      <td>Google</td>\n",
       "      <td>Positive emotion</td>\n",
       "    </tr>\n",
       "    <tr>\n",
       "      <td>5</td>\n",
       "      <td>@teachntech00 New iPad Apps For #SpeechTherapy...</td>\n",
       "      <td>NaN</td>\n",
       "      <td>No emotion toward brand or product</td>\n",
       "    </tr>\n",
       "    <tr>\n",
       "      <td>6</td>\n",
       "      <td>NaN</td>\n",
       "      <td>NaN</td>\n",
       "      <td>No emotion toward brand or product</td>\n",
       "    </tr>\n",
       "    <tr>\n",
       "      <td>7</td>\n",
       "      <td>#SXSW is just starting, #CTIA is around the co...</td>\n",
       "      <td>Android</td>\n",
       "      <td>Positive emotion</td>\n",
       "    </tr>\n",
       "    <tr>\n",
       "      <td>8</td>\n",
       "      <td>Beautifully smart and simple idea RT @madebyma...</td>\n",
       "      <td>iPad or iPhone App</td>\n",
       "      <td>Positive emotion</td>\n",
       "    </tr>\n",
       "    <tr>\n",
       "      <td>9</td>\n",
       "      <td>Counting down the days to #sxsw plus strong Ca...</td>\n",
       "      <td>Apple</td>\n",
       "      <td>Positive emotion</td>\n",
       "    </tr>\n",
       "  </tbody>\n",
       "</table>\n",
       "</div>"
      ],
      "text/plain": [
       "                                               Tweet               Brand  \\\n",
       "0  .@wesley83 I have a 3G iPhone. After 3 hrs twe...              iPhone   \n",
       "1  @jessedee Know about @fludapp ? Awesome iPad/i...  iPad or iPhone App   \n",
       "2  @swonderlin Can not wait for #iPad 2 also. The...                iPad   \n",
       "3  @sxsw I hope this year's festival isn't as cra...  iPad or iPhone App   \n",
       "4  @sxtxstate great stuff on Fri #SXSW: Marissa M...              Google   \n",
       "5  @teachntech00 New iPad Apps For #SpeechTherapy...                 NaN   \n",
       "6                                                NaN                 NaN   \n",
       "7  #SXSW is just starting, #CTIA is around the co...             Android   \n",
       "8  Beautifully smart and simple idea RT @madebyma...  iPad or iPhone App   \n",
       "9  Counting down the days to #sxsw plus strong Ca...               Apple   \n",
       "\n",
       "                            Sentiment  \n",
       "0                    Negative emotion  \n",
       "1                    Positive emotion  \n",
       "2                    Positive emotion  \n",
       "3                    Negative emotion  \n",
       "4                    Positive emotion  \n",
       "5  No emotion toward brand or product  \n",
       "6  No emotion toward brand or product  \n",
       "7                    Positive emotion  \n",
       "8                    Positive emotion  \n",
       "9                    Positive emotion  "
      ]
     },
     "execution_count": 6,
     "metadata": {},
     "output_type": "execute_result"
    }
   ],
   "source": [
    "#check if column names changed.\n",
    "dataset.head(10)"
   ]
  },
  {
   "cell_type": "code",
   "execution_count": 7,
   "metadata": {},
   "outputs": [],
   "source": [
    "#drop empty row.\n",
    "dataset =dataset.drop([6])\n"
   ]
  },
  {
   "cell_type": "code",
   "execution_count": 8,
   "metadata": {},
   "outputs": [
    {
     "data": {
      "text/plain": [
       "iPad                               946\n",
       "Apple                              661\n",
       "iPad or iPhone App                 470\n",
       "Google                             430\n",
       "iPhone                             297\n",
       "Other Google product or service    293\n",
       "Android App                         81\n",
       "Android                             78\n",
       "Other Apple product or service      35\n",
       "Name: Brand, dtype: int64"
      ]
     },
     "execution_count": 8,
     "metadata": {},
     "output_type": "execute_result"
    }
   ],
   "source": [
    "dataset.Brand.value_counts()\n",
    "#len(dataset)"
   ]
  },
  {
   "cell_type": "code",
   "execution_count": 9,
   "metadata": {},
   "outputs": [],
   "source": [
    "## We have 9092 rows. 5801 entries for the Brand column.\n",
    "## Let's explore it further\n",
    "## We'll start with the Sentiment column."
   ]
  },
  {
   "cell_type": "code",
   "execution_count": 10,
   "metadata": {},
   "outputs": [
    {
     "data": {
      "text/html": [
       "<div>\n",
       "<style scoped>\n",
       "    .dataframe tbody tr th:only-of-type {\n",
       "        vertical-align: middle;\n",
       "    }\n",
       "\n",
       "    .dataframe tbody tr th {\n",
       "        vertical-align: top;\n",
       "    }\n",
       "\n",
       "    .dataframe thead th {\n",
       "        text-align: right;\n",
       "    }\n",
       "</style>\n",
       "<table border=\"1\" class=\"dataframe\">\n",
       "  <thead>\n",
       "    <tr style=\"text-align: right;\">\n",
       "      <th></th>\n",
       "      <th>Tweet</th>\n",
       "      <th>Brand</th>\n",
       "      <th>Sentiment</th>\n",
       "    </tr>\n",
       "  </thead>\n",
       "  <tbody>\n",
       "    <tr>\n",
       "      <td>468</td>\n",
       "      <td>Before It Even Begins, Apple Wins #SXSW {link}</td>\n",
       "      <td>Apple</td>\n",
       "      <td>Positive emotion</td>\n",
       "    </tr>\n",
       "    <tr>\n",
       "      <td>776</td>\n",
       "      <td>Google to Launch Major New Social Network Call...</td>\n",
       "      <td>NaN</td>\n",
       "      <td>No emotion toward brand or product</td>\n",
       "    </tr>\n",
       "    <tr>\n",
       "      <td>2232</td>\n",
       "      <td>Marissa Mayer: Google Will Connect the Digital...</td>\n",
       "      <td>NaN</td>\n",
       "      <td>No emotion toward brand or product</td>\n",
       "    </tr>\n",
       "    <tr>\n",
       "      <td>2559</td>\n",
       "      <td>Counting down the days to #sxsw plus strong Ca...</td>\n",
       "      <td>Apple</td>\n",
       "      <td>Positive emotion</td>\n",
       "    </tr>\n",
       "    <tr>\n",
       "      <td>3950</td>\n",
       "      <td>Really enjoying the changes in Gowalla 3.0 for...</td>\n",
       "      <td>Android App</td>\n",
       "      <td>Positive emotion</td>\n",
       "    </tr>\n",
       "    <tr>\n",
       "      <td>3962</td>\n",
       "      <td>#SXSW is just starting, #CTIA is around the co...</td>\n",
       "      <td>Android</td>\n",
       "      <td>Positive emotion</td>\n",
       "    </tr>\n",
       "    <tr>\n",
       "      <td>4897</td>\n",
       "      <td>Oh. My. God. The #SXSW app for iPad is pure, u...</td>\n",
       "      <td>iPad or iPhone App</td>\n",
       "      <td>Positive emotion</td>\n",
       "    </tr>\n",
       "    <tr>\n",
       "      <td>5338</td>\n",
       "      <td>RT @mention ÷¼ GO BEYOND BORDERS! ÷_ {link} ...</td>\n",
       "      <td>NaN</td>\n",
       "      <td>No emotion toward brand or product</td>\n",
       "    </tr>\n",
       "    <tr>\n",
       "      <td>5341</td>\n",
       "      <td>RT @mention ÷¼ Happy Woman's Day! Make love, ...</td>\n",
       "      <td>NaN</td>\n",
       "      <td>No emotion toward brand or product</td>\n",
       "    </tr>\n",
       "    <tr>\n",
       "      <td>5881</td>\n",
       "      <td>RT @mention Google to Launch Major New Social ...</td>\n",
       "      <td>NaN</td>\n",
       "      <td>No emotion toward brand or product</td>\n",
       "    </tr>\n",
       "    <tr>\n",
       "      <td>5882</td>\n",
       "      <td>RT @mention Google to Launch Major New Social ...</td>\n",
       "      <td>NaN</td>\n",
       "      <td>No emotion toward brand or product</td>\n",
       "    </tr>\n",
       "    <tr>\n",
       "      <td>5883</td>\n",
       "      <td>RT @mention Google to Launch Major New Social ...</td>\n",
       "      <td>NaN</td>\n",
       "      <td>No emotion toward brand or product</td>\n",
       "    </tr>\n",
       "    <tr>\n",
       "      <td>5884</td>\n",
       "      <td>RT @mention Google to Launch Major New Social ...</td>\n",
       "      <td>NaN</td>\n",
       "      <td>No emotion toward brand or product</td>\n",
       "    </tr>\n",
       "    <tr>\n",
       "      <td>5885</td>\n",
       "      <td>RT @mention Google to Launch Major New Social ...</td>\n",
       "      <td>NaN</td>\n",
       "      <td>No emotion toward brand or product</td>\n",
       "    </tr>\n",
       "    <tr>\n",
       "      <td>6296</td>\n",
       "      <td>RT @mention Marissa Mayer: Google Will Connect...</td>\n",
       "      <td>Google</td>\n",
       "      <td>Positive emotion</td>\n",
       "    </tr>\n",
       "    <tr>\n",
       "      <td>6297</td>\n",
       "      <td>RT @mention Marissa Mayer: Google Will Connect...</td>\n",
       "      <td>NaN</td>\n",
       "      <td>No emotion toward brand or product</td>\n",
       "    </tr>\n",
       "    <tr>\n",
       "      <td>6298</td>\n",
       "      <td>RT @mention Marissa Mayer: Google Will Connect...</td>\n",
       "      <td>Google</td>\n",
       "      <td>Positive emotion</td>\n",
       "    </tr>\n",
       "    <tr>\n",
       "      <td>6299</td>\n",
       "      <td>RT @mention Marissa Mayer: Google Will Connect...</td>\n",
       "      <td>NaN</td>\n",
       "      <td>No emotion toward brand or product</td>\n",
       "    </tr>\n",
       "    <tr>\n",
       "      <td>6300</td>\n",
       "      <td>RT @mention Marissa Mayer: Google Will Connect...</td>\n",
       "      <td>NaN</td>\n",
       "      <td>No emotion toward brand or product</td>\n",
       "    </tr>\n",
       "    <tr>\n",
       "      <td>6546</td>\n",
       "      <td>RT @mention RT @mention Google to Launch Major...</td>\n",
       "      <td>NaN</td>\n",
       "      <td>No emotion toward brand or product</td>\n",
       "    </tr>\n",
       "    <tr>\n",
       "      <td>8483</td>\n",
       "      <td>I just noticed DST is coming this weekend. How...</td>\n",
       "      <td>iPhone</td>\n",
       "      <td>Negative emotion</td>\n",
       "    </tr>\n",
       "    <tr>\n",
       "      <td>8747</td>\n",
       "      <td>Need to buy an iPad2 while I'm in Austin at #s...</td>\n",
       "      <td>iPad</td>\n",
       "      <td>Positive emotion</td>\n",
       "    </tr>\n",
       "  </tbody>\n",
       "</table>\n",
       "</div>"
      ],
      "text/plain": [
       "                                                  Tweet               Brand  \\\n",
       "468      Before It Even Begins, Apple Wins #SXSW {link}               Apple   \n",
       "776   Google to Launch Major New Social Network Call...                 NaN   \n",
       "2232  Marissa Mayer: Google Will Connect the Digital...                 NaN   \n",
       "2559  Counting down the days to #sxsw plus strong Ca...               Apple   \n",
       "3950  Really enjoying the changes in Gowalla 3.0 for...         Android App   \n",
       "3962  #SXSW is just starting, #CTIA is around the co...             Android   \n",
       "4897  Oh. My. God. The #SXSW app for iPad is pure, u...  iPad or iPhone App   \n",
       "5338  RT @mention ÷¼ GO BEYOND BORDERS! ÷_ {link} ...                 NaN   \n",
       "5341  RT @mention ÷¼ Happy Woman's Day! Make love, ...                 NaN   \n",
       "5881  RT @mention Google to Launch Major New Social ...                 NaN   \n",
       "5882  RT @mention Google to Launch Major New Social ...                 NaN   \n",
       "5883  RT @mention Google to Launch Major New Social ...                 NaN   \n",
       "5884  RT @mention Google to Launch Major New Social ...                 NaN   \n",
       "5885  RT @mention Google to Launch Major New Social ...                 NaN   \n",
       "6296  RT @mention Marissa Mayer: Google Will Connect...              Google   \n",
       "6297  RT @mention Marissa Mayer: Google Will Connect...                 NaN   \n",
       "6298  RT @mention Marissa Mayer: Google Will Connect...              Google   \n",
       "6299  RT @mention Marissa Mayer: Google Will Connect...                 NaN   \n",
       "6300  RT @mention Marissa Mayer: Google Will Connect...                 NaN   \n",
       "6546  RT @mention RT @mention Google to Launch Major...                 NaN   \n",
       "8483  I just noticed DST is coming this weekend. How...              iPhone   \n",
       "8747  Need to buy an iPad2 while I'm in Austin at #s...                iPad   \n",
       "\n",
       "                               Sentiment  \n",
       "468                     Positive emotion  \n",
       "776   No emotion toward brand or product  \n",
       "2232  No emotion toward brand or product  \n",
       "2559                    Positive emotion  \n",
       "3950                    Positive emotion  \n",
       "3962                    Positive emotion  \n",
       "4897                    Positive emotion  \n",
       "5338  No emotion toward brand or product  \n",
       "5341  No emotion toward brand or product  \n",
       "5881  No emotion toward brand or product  \n",
       "5882  No emotion toward brand or product  \n",
       "5883  No emotion toward brand or product  \n",
       "5884  No emotion toward brand or product  \n",
       "5885  No emotion toward brand or product  \n",
       "6296                    Positive emotion  \n",
       "6297  No emotion toward brand or product  \n",
       "6298                    Positive emotion  \n",
       "6299  No emotion toward brand or product  \n",
       "6300  No emotion toward brand or product  \n",
       "6546  No emotion toward brand or product  \n",
       "8483                    Negative emotion  \n",
       "8747                    Positive emotion  "
      ]
     },
     "execution_count": 10,
     "metadata": {},
     "output_type": "execute_result"
    }
   ],
   "source": [
    "#Find duplicated rows\n",
    "duplicateRowsData = dataset[dataset.duplicated()]\n",
    "duplicateRowsData"
   ]
  },
  {
   "cell_type": "code",
   "execution_count": 11,
   "metadata": {},
   "outputs": [
    {
     "name": "stdout",
     "output_type": "stream",
     "text": [
      "[468, 776, 2232, 2559, 3950, 3962, 4897, 5338, 5341, 5881, 5882, 5883, 5884, 5885, 6296, 6297, 6298, 6299, 6300, 6546, 8483, 8747]\n"
     ]
    },
    {
     "data": {
      "text/plain": [
       "22"
      ]
     },
     "execution_count": 11,
     "metadata": {},
     "output_type": "execute_result"
    }
   ],
   "source": [
    "# Get indexs of the duplicated rows.\n",
    "duplicateIndex = []\n",
    "for row in duplicateRowsData.index: \n",
    "    duplicateIndex.append(row)\n",
    "print(duplicateIndex)  \n",
    "len(duplicateIndex)"
   ]
  },
  {
   "cell_type": "code",
   "execution_count": 12,
   "metadata": {},
   "outputs": [],
   "source": [
    "#Drop duplicated rows\n",
    "dataset = dataset.drop([468, 776, 2232, 2559, 3950, 3962, 4897, 5338, 5341, 5881, 5882, 5883, 5884, 5885, 6296, 6297, 6298, 6299, 6300, 6546, 8483, 8747])"
   ]
  },
  {
   "cell_type": "code",
   "execution_count": 13,
   "metadata": {},
   "outputs": [
    {
     "data": {
      "text/html": [
       "<div>\n",
       "<style scoped>\n",
       "    .dataframe tbody tr th:only-of-type {\n",
       "        vertical-align: middle;\n",
       "    }\n",
       "\n",
       "    .dataframe tbody tr th {\n",
       "        vertical-align: top;\n",
       "    }\n",
       "\n",
       "    .dataframe thead th {\n",
       "        text-align: right;\n",
       "    }\n",
       "</style>\n",
       "<table border=\"1\" class=\"dataframe\">\n",
       "  <thead>\n",
       "    <tr style=\"text-align: right;\">\n",
       "      <th></th>\n",
       "      <th>Tweet</th>\n",
       "      <th>Brand</th>\n",
       "      <th>Sentiment</th>\n",
       "    </tr>\n",
       "  </thead>\n",
       "  <tbody>\n",
       "  </tbody>\n",
       "</table>\n",
       "</div>"
      ],
      "text/plain": [
       "Empty DataFrame\n",
       "Columns: [Tweet, Brand, Sentiment]\n",
       "Index: []"
      ]
     },
     "execution_count": 13,
     "metadata": {},
     "output_type": "execute_result"
    }
   ],
   "source": [
    "#Check again for duplicates\n",
    "duplicateRowsData = dataset[dataset.duplicated()]\n",
    "duplicateRowsData\n"
   ]
  },
  {
   "cell_type": "markdown",
   "metadata": {},
   "source": [
    "No duplicates left."
   ]
  },
  {
   "cell_type": "markdown",
   "metadata": {},
   "source": [
    "## Sentiment column"
   ]
  },
  {
   "cell_type": "code",
   "execution_count": 14,
   "metadata": {},
   "outputs": [
    {
     "data": {
      "text/plain": [
       "No emotion toward brand or product    5375\n",
       "Positive emotion                      2970\n",
       "Negative emotion                       569\n",
       "I can't tell                           156\n",
       "Name: Sentiment, dtype: int64"
      ]
     },
     "execution_count": 14,
     "metadata": {},
     "output_type": "execute_result"
    }
   ],
   "source": [
    "#Analyze Sentiment column.\n",
    "dataset.Sentiment.value_counts()"
   ]
  },
  {
   "cell_type": "markdown",
   "metadata": {},
   "source": [
    "We have 3539 tweets with positive and negative emotions and 5531 neutral tweets. "
   ]
  },
  {
   "cell_type": "code",
   "execution_count": 15,
   "metadata": {},
   "outputs": [
    {
     "data": {
      "text/html": [
       "<div>\n",
       "<style scoped>\n",
       "    .dataframe tbody tr th:only-of-type {\n",
       "        vertical-align: middle;\n",
       "    }\n",
       "\n",
       "    .dataframe tbody tr th {\n",
       "        vertical-align: top;\n",
       "    }\n",
       "\n",
       "    .dataframe thead th {\n",
       "        text-align: right;\n",
       "    }\n",
       "</style>\n",
       "<table border=\"1\" class=\"dataframe\">\n",
       "  <thead>\n",
       "    <tr style=\"text-align: right;\">\n",
       "      <th></th>\n",
       "      <th>Tweet</th>\n",
       "      <th>Brand</th>\n",
       "      <th>Sentiment</th>\n",
       "    </tr>\n",
       "  </thead>\n",
       "  <tbody>\n",
       "    <tr>\n",
       "      <td>0</td>\n",
       "      <td>.@wesley83 I have a 3G iPhone. After 3 hrs twe...</td>\n",
       "      <td>iPhone</td>\n",
       "      <td>0</td>\n",
       "    </tr>\n",
       "    <tr>\n",
       "      <td>1</td>\n",
       "      <td>@jessedee Know about @fludapp ? Awesome iPad/i...</td>\n",
       "      <td>iPad or iPhone App</td>\n",
       "      <td>4</td>\n",
       "    </tr>\n",
       "    <tr>\n",
       "      <td>2</td>\n",
       "      <td>@swonderlin Can not wait for #iPad 2 also. The...</td>\n",
       "      <td>iPad</td>\n",
       "      <td>4</td>\n",
       "    </tr>\n",
       "    <tr>\n",
       "      <td>3</td>\n",
       "      <td>@sxsw I hope this year's festival isn't as cra...</td>\n",
       "      <td>iPad or iPhone App</td>\n",
       "      <td>0</td>\n",
       "    </tr>\n",
       "    <tr>\n",
       "      <td>4</td>\n",
       "      <td>@sxtxstate great stuff on Fri #SXSW: Marissa M...</td>\n",
       "      <td>Google</td>\n",
       "      <td>4</td>\n",
       "    </tr>\n",
       "  </tbody>\n",
       "</table>\n",
       "</div>"
      ],
      "text/plain": [
       "                                               Tweet               Brand  \\\n",
       "0  .@wesley83 I have a 3G iPhone. After 3 hrs twe...              iPhone   \n",
       "1  @jessedee Know about @fludapp ? Awesome iPad/i...  iPad or iPhone App   \n",
       "2  @swonderlin Can not wait for #iPad 2 also. The...                iPad   \n",
       "3  @sxsw I hope this year's festival isn't as cra...  iPad or iPhone App   \n",
       "4  @sxtxstate great stuff on Fri #SXSW: Marissa M...              Google   \n",
       "\n",
       "  Sentiment  \n",
       "0         0  \n",
       "1         4  \n",
       "2         4  \n",
       "3         0  \n",
       "4         4  "
      ]
     },
     "execution_count": 15,
     "metadata": {},
     "output_type": "execute_result"
    }
   ],
   "source": [
    "#Replace positive emotion with numbers from 0 to 4. I chose #4 for positive.\n",
    "dataset.Sentiment = dataset.Sentiment.replace({'Positive emotion':'4', 'Negative emotion':'0', \"I can't tell\": '1', 'No emotion toward brand or product': '2'})\n",
    "dataset.head()"
   ]
  },
  {
   "cell_type": "markdown",
   "metadata": {},
   "source": [
    "Create 4 different datasets for each type of sentiment."
   ]
  },
  {
   "cell_type": "code",
   "execution_count": 16,
   "metadata": {},
   "outputs": [
    {
     "data": {
      "text/plain": [
       "156"
      ]
     },
     "execution_count": 16,
     "metadata": {},
     "output_type": "execute_result"
    }
   ],
   "source": [
    "dataset_1 = dataset[dataset['Sentiment'] == '1']\n",
    "dataset_1.head()\n",
    "len(dataset_1)"
   ]
  },
  {
   "cell_type": "code",
   "execution_count": 17,
   "metadata": {},
   "outputs": [
    {
     "data": {
      "text/plain": [
       "5375"
      ]
     },
     "execution_count": 17,
     "metadata": {},
     "output_type": "execute_result"
    }
   ],
   "source": [
    "dataset_2 = dataset[dataset['Sentiment'] == '2']\n",
    "dataset_2.head()\n",
    "len(dataset_2)"
   ]
  },
  {
   "cell_type": "code",
   "execution_count": 18,
   "metadata": {},
   "outputs": [
    {
     "data": {
      "text/plain": [
       "569"
      ]
     },
     "execution_count": 18,
     "metadata": {},
     "output_type": "execute_result"
    }
   ],
   "source": [
    "dataset_0 = dataset[dataset['Sentiment'] == \"0\"]\n",
    "len(dataset_0)"
   ]
  },
  {
   "cell_type": "code",
   "execution_count": 19,
   "metadata": {},
   "outputs": [
    {
     "data": {
      "text/plain": [
       "2970"
      ]
     },
     "execution_count": 19,
     "metadata": {},
     "output_type": "execute_result"
    }
   ],
   "source": [
    "dataset_4 = dataset[dataset['Sentiment'] == \"4\"]\n",
    "len(dataset_4)"
   ]
  },
  {
   "cell_type": "code",
   "execution_count": 20,
   "metadata": {},
   "outputs": [
    {
     "data": {
      "text/plain": [
       "3539"
      ]
     },
     "execution_count": 20,
     "metadata": {},
     "output_type": "execute_result"
    }
   ],
   "source": [
    "# Create dataset with positive and negative sentiments.\n",
    "dataset_decided = pd.concat([dataset_0, dataset_4], ignore_index=True)\n",
    "len(dataset_decided)\n",
    "#dataset_decided.tail()"
   ]
  },
  {
   "cell_type": "code",
   "execution_count": 21,
   "metadata": {},
   "outputs": [
    {
     "data": {
      "text/plain": [
       "4    0.83922\n",
       "0    0.16078\n",
       "Name: Sentiment, dtype: float64"
      ]
     },
     "execution_count": 21,
     "metadata": {},
     "output_type": "execute_result"
    }
   ],
   "source": [
    "dataset_decided.Sentiment.value_counts(normalize= True)"
   ]
  },
  {
   "cell_type": "code",
   "execution_count": 22,
   "metadata": {},
   "outputs": [
    {
     "data": {
      "image/png": "[encoded data removed]",
      "text/plain": [
       "<Figure size 432x288 with 1 Axes>"
      ]
     },
     "metadata": {},
     "output_type": "display_data"
    }
   ],
   "source": [
    "# Plot decided dataset.\n",
    "# Pie chart, where the slices will be ordered and plotted counter-clockwise:\n",
    "labels = 'Negative Emotion', 'Positive Emotion'\n",
    "sizes = [16, 84]\n",
    "explode = (0, 0.1)  # only \"explode\" the 2nd slice (i.e. 'Hogs')\n",
    "\n",
    "fig1, ax1 = plt.subplots()\n",
    "ax1.pie(sizes, explode=explode, labels=labels, autopct='%1.1f%%',\n",
    "        shadow=True, startangle=90)\n",
    "ax1.axis('equal')  # Equal aspect ratio ensures that pie is drawn as a circle.\n",
    "plt.title('Sentiments towards Apple and Google products')\n",
    "\n",
    "plt.show()"
   ]
  },
  {
   "cell_type": "code",
   "execution_count": 23,
   "metadata": {},
   "outputs": [
    {
     "data": {
      "text/html": [
       "<div>\n",
       "<style scoped>\n",
       "    .dataframe tbody tr th:only-of-type {\n",
       "        vertical-align: middle;\n",
       "    }\n",
       "\n",
       "    .dataframe tbody tr th {\n",
       "        vertical-align: top;\n",
       "    }\n",
       "\n",
       "    .dataframe thead th {\n",
       "        text-align: right;\n",
       "    }\n",
       "</style>\n",
       "<table border=\"1\" class=\"dataframe\">\n",
       "  <thead>\n",
       "    <tr style=\"text-align: right;\">\n",
       "      <th></th>\n",
       "      <th>Tweet</th>\n",
       "      <th>Brand</th>\n",
       "      <th>Sentiment</th>\n",
       "    </tr>\n",
       "  </thead>\n",
       "  <tbody>\n",
       "    <tr>\n",
       "      <td>0</td>\n",
       "      <td>.@wesley83 I have a 3G iPhone. After 3 hrs twe...</td>\n",
       "      <td>iPhone</td>\n",
       "      <td>0</td>\n",
       "    </tr>\n",
       "    <tr>\n",
       "      <td>1</td>\n",
       "      <td>@jessedee Know about @fludapp ? Awesome iPad/i...</td>\n",
       "      <td>iPad or iPhone App</td>\n",
       "      <td>4</td>\n",
       "    </tr>\n",
       "    <tr>\n",
       "      <td>2</td>\n",
       "      <td>@swonderlin Can not wait for #iPad 2 also. The...</td>\n",
       "      <td>iPad</td>\n",
       "      <td>4</td>\n",
       "    </tr>\n",
       "    <tr>\n",
       "      <td>3</td>\n",
       "      <td>@sxsw I hope this year's festival isn't as cra...</td>\n",
       "      <td>iPad or iPhone App</td>\n",
       "      <td>0</td>\n",
       "    </tr>\n",
       "    <tr>\n",
       "      <td>4</td>\n",
       "      <td>@sxtxstate great stuff on Fri #SXSW: Marissa M...</td>\n",
       "      <td>Google</td>\n",
       "      <td>4</td>\n",
       "    </tr>\n",
       "  </tbody>\n",
       "</table>\n",
       "</div>"
      ],
      "text/plain": [
       "                                               Tweet               Brand  \\\n",
       "0  .@wesley83 I have a 3G iPhone. After 3 hrs twe...              iPhone   \n",
       "1  @jessedee Know about @fludapp ? Awesome iPad/i...  iPad or iPhone App   \n",
       "2  @swonderlin Can not wait for #iPad 2 also. The...                iPad   \n",
       "3  @sxsw I hope this year's festival isn't as cra...  iPad or iPhone App   \n",
       "4  @sxtxstate great stuff on Fri #SXSW: Marissa M...              Google   \n",
       "\n",
       "  Sentiment  \n",
       "0         0  \n",
       "1         4  \n",
       "2         4  \n",
       "3         0  \n",
       "4         4  "
      ]
     },
     "execution_count": 23,
     "metadata": {},
     "output_type": "execute_result"
    }
   ],
   "source": [
    "dataset.head()"
   ]
  },
  {
   "cell_type": "markdown",
   "metadata": {},
   "source": [
    "## Tweet column."
   ]
  },
  {
   "cell_type": "code",
   "execution_count": 24,
   "metadata": {},
   "outputs": [
    {
     "name": "stdout",
     "output_type": "stream",
     "text": [
      "I went to #sxswi and all I won was this lousy #iPad #sxsw :-) :-) {link}\n"
     ]
    }
   ],
   "source": [
    "# Analyse 'Tweet' column.\n",
    "print(dataset['Tweet'][174])\n"
   ]
  },
  {
   "cell_type": "markdown",
   "metadata": {},
   "source": [
    "We can see we have handles, emojies, punctuation, stop words that we need to take care."
   ]
  },
  {
   "cell_type": "code",
   "execution_count": 25,
   "metadata": {},
   "outputs": [],
   "source": [
    "# turn happy emojis into EMO_POS and unhappy emojis into EMO_NEG\n",
    "def handle_emojis(tweet):\n",
    "    # Smile -- :), : ), :-), (:, ( :, (-:, :')\n",
    "    tweet = re.sub(r'(:\\s?\\)|:-\\)|\\(\\s?:|\\(-:|:\\'\\))', ' EMO_POS ', tweet)\n",
    "    # Laugh -- :D, : D, :-D, xD, x-D, XD, X-D\n",
    "    tweet = re.sub(r'(:\\s?D|:-D|x-?D|X-?D)', ' EMO_POS ', tweet)\n",
    "    # Love -- <3, :*\n",
    "    tweet = re.sub(r'(<3|:\\*)', ' EMO_POS ', tweet)\n",
    "    # Wink -- ;-), ;), ;-D, ;D, (;,  (-;\n",
    "    tweet = re.sub(r'(;-?\\)|;-?D|\\(-?;)', ' EMO_POS ', tweet)\n",
    "    # Sad -- :-(, : (, :(, ):, )-:\n",
    "    tweet = re.sub(r'(:\\s?\\(|:-\\(|\\)\\s?:|\\)-:)', ' EMO_NEG ', tweet)\n",
    "    # Cry -- :,(, :'(, :\"(\n",
    "    tweet = re.sub(r'(:,\\(|:\\'\\(|:\"\\()', ' EMO_NEG ', tweet)\n",
    "    return tweet"
   ]
  },
  {
   "cell_type": "code",
   "execution_count": 26,
   "metadata": {},
   "outputs": [],
   "source": [
    "#set up stopwords, \n",
    "STOPWORDS = stopwords.words('english')\n",
    "STOPWORDS += list(string.punctuation)"
   ]
  },
  {
   "cell_type": "code",
   "execution_count": 27,
   "metadata": {},
   "outputs": [],
   "source": [
    "STOPWORDS = set(STOPWORDS)"
   ]
  },
  {
   "cell_type": "code",
   "execution_count": 28,
   "metadata": {},
   "outputs": [],
   "source": [
    "#remove word 'not' from it because it might be important when it comes to negative emotions.  \n",
    "STOPWORDS.remove(\"not\")"
   ]
  },
  {
   "cell_type": "code",
   "execution_count": 29,
   "metadata": {},
   "outputs": [
    {
     "name": "stdout",
     "output_type": "stream",
     "text": [
      "I went to #sxswi and all I won was this lousy #iPad #sxsw :-) :-) {link}\n"
     ]
    }
   ],
   "source": [
    "print(dataset['Tweet'][174]) "
   ]
  },
  {
   "cell_type": "code",
   "execution_count": 30,
   "metadata": {},
   "outputs": [
    {
     "data": {
      "text/plain": [
       "'i went to #sxswi and all i won was this lousy #ipad #sxsw :-) :-) {link}'"
      ]
     },
     "execution_count": 30,
     "metadata": {},
     "output_type": "execute_result"
    }
   ],
   "source": [
    "#create a new column 'Clean Tweet' and lower cases.\n",
    "dataset['Clean_tweet'] = dataset['Tweet'].apply(lambda tweet: tweet.lower())\n",
    "dataset.Clean_tweet[174]"
   ]
  },
  {
   "cell_type": "code",
   "execution_count": 31,
   "metadata": {},
   "outputs": [
    {
     "data": {
      "text/plain": [
       "'i went to #sxswi and all i won was this lousy #ipad #sxsw  EMO_POS   EMO_POS  {link}'"
      ]
     },
     "execution_count": 31,
     "metadata": {},
     "output_type": "execute_result"
    }
   ],
   "source": [
    "#deal with emoticons using the above function. \n",
    "dataset['Clean_tweet'] = dataset['Clean_tweet'].apply(lambda tweet: handle_emojis(tweet))\n",
    "dataset.Clean_tweet[174]"
   ]
  },
  {
   "cell_type": "code",
   "execution_count": 32,
   "metadata": {},
   "outputs": [
    {
     "data": {
      "text/plain": [
       "'i went to #sxswi and all i won was this lousy #ipad #sxsw  EMO_POS   EMO_POS  {link}'"
      ]
     },
     "execution_count": 32,
     "metadata": {},
     "output_type": "execute_result"
    }
   ],
   "source": [
    "#remove user handles starting with @\n",
    "dataset['Clean_tweet'] = dataset['Clean_tweet'].str.replace(\"@[\\w]*\",\"\")\n",
    "dataset.Clean_tweet[174]"
   ]
  },
  {
   "cell_type": "code",
   "execution_count": 33,
   "metadata": {},
   "outputs": [
    {
     "data": {
      "text/plain": [
       "'i went to sxswi and all i won was this lousy ipad sxsw  EMOPOS   EMOPOS  link'"
      ]
     },
     "execution_count": 33,
     "metadata": {},
     "output_type": "execute_result"
    }
   ],
   "source": [
    "#remove special characters\n",
    "dataset['Clean_tweet'] = dataset['Clean_tweet'].str.replace(\"[^a-zA-Z' ]\",\"\")\n",
    "dataset.Clean_tweet[174]"
   ]
  },
  {
   "cell_type": "code",
   "execution_count": 34,
   "metadata": {},
   "outputs": [
    {
     "data": {
      "text/plain": [
       "'i went to sxswi and all i won was this lousy ipad sxsw  EMOPOS   EMOPOS  link'"
      ]
     },
     "execution_count": 34,
     "metadata": {},
     "output_type": "execute_result"
    }
   ],
   "source": [
    "#remove urls\n",
    "dataset['Clean_tweet'] = dataset['Clean_tweet'].replace(re.compile(r\"((www\\.[^\\s]+)|(https?://[^\\s]+))\"), \"\")\n",
    "dataset.Clean_tweet[174]"
   ]
  },
  {
   "cell_type": "code",
   "execution_count": 35,
   "metadata": {},
   "outputs": [
    {
     "data": {
      "text/plain": [
       "' went to sxswi and all won was this lousy ipad sxsw  EMOPOS EMOPOS  link'"
      ]
     },
     "execution_count": 35,
     "metadata": {},
     "output_type": "execute_result"
    }
   ],
   "source": [
    "#remove single characters\n",
    "dataset['Clean_tweet'] = dataset['Clean_tweet'].replace(re.compile(r\"(^| ).( |$)\"), \" \")\n",
    "dataset.Clean_tweet[174]"
   ]
  },
  {
   "cell_type": "code",
   "execution_count": 36,
   "metadata": {},
   "outputs": [
    {
     "data": {
      "text/plain": [
       "['went',\n",
       " 'to',\n",
       " 'sxswi',\n",
       " 'and',\n",
       " 'all',\n",
       " 'won',\n",
       " 'was',\n",
       " 'this',\n",
       " 'lousy',\n",
       " 'ipad',\n",
       " 'sxsw',\n",
       " 'EMOPOS',\n",
       " 'EMOPOS',\n",
       " 'link']"
      ]
     },
     "execution_count": 36,
     "metadata": {},
     "output_type": "execute_result"
    }
   ],
   "source": [
    "#tokenize\n",
    "dataset['Clean_tweet'] = dataset['Clean_tweet'].str.split()\n",
    "dataset.Clean_tweet[174]"
   ]
  },
  {
   "cell_type": "code",
   "execution_count": 37,
   "metadata": {},
   "outputs": [
    {
     "data": {
      "text/plain": [
       "['went', 'sxswi', 'lousy', 'ipad', 'sxsw', 'EMOPOS', 'EMOPOS', 'link']"
      ]
     },
     "execution_count": 37,
     "metadata": {},
     "output_type": "execute_result"
    }
   ],
   "source": [
    "#remove stopwords\n",
    "dataset['Clean_tweet'] = dataset['Clean_tweet'].apply(lambda tweet: [word for word in tweet if word not in STOPWORDS])\n",
    "dataset.Clean_tweet[174]"
   ]
  },
  {
   "cell_type": "code",
   "execution_count": 38,
   "metadata": {},
   "outputs": [],
   "source": [
    "#function to replace the n't with not.\n",
    "def expand_tweet(tweet):\n",
    "    expanded_tweet = []\n",
    "    for word in tweet:\n",
    "        if re.search(\"n't\", word):\n",
    "            expanded_tweet.append(word.split(\"n't\")[0])\n",
    "            expanded_tweet.append(\"not\")\n",
    "        else:\n",
    "            expanded_tweet.append(word)\n",
    "    return expanded_tweet\n"
   ]
  },
  {
   "cell_type": "code",
   "execution_count": 39,
   "metadata": {},
   "outputs": [
    {
     "data": {
      "text/plain": [
       "['went', 'sxswi', 'lousy', 'ipad', 'sxsw', 'EMOPOS', 'EMOPOS', 'link']"
      ]
     },
     "execution_count": 39,
     "metadata": {},
     "output_type": "execute_result"
    }
   ],
   "source": [
    "#replace \"n't\" with \"not\"\n",
    "dataset['Clean_tweet'] = dataset['Clean_tweet'].apply(lambda tweet: expand_tweet(tweet))\n",
    "dataset.Clean_tweet[174]"
   ]
  },
  {
   "cell_type": "code",
   "execution_count": 40,
   "metadata": {},
   "outputs": [],
   "source": [
    "wordNetLemmatizer = WordNetLemmatizer()\n",
    "porterStemmer = PorterStemmer()\n"
   ]
  },
  {
   "cell_type": "code",
   "execution_count": 41,
   "metadata": {},
   "outputs": [
    {
     "data": {
      "text/plain": [
       "['went', 'sxswi', 'lousy', 'ipad', 'sxsw', 'EMOPOS', 'EMOPOS', 'link']"
      ]
     },
     "execution_count": 41,
     "metadata": {},
     "output_type": "execute_result"
    }
   ],
   "source": [
    "#Lemanizing words\n",
    "dataset['Clean_tweet'] = dataset['Clean_tweet'].apply(lambda tweet: [wordNetLemmatizer.lemmatize(word) for word in tweet])\n",
    "dataset.Clean_tweet[174]"
   ]
  },
  {
   "cell_type": "code",
   "execution_count": 42,
   "metadata": {},
   "outputs": [
    {
     "data": {
      "text/plain": [
       "['went', 'sxswi', 'lousi', 'ipad', 'sxsw', 'emopo', 'emopo', 'link']"
      ]
     },
     "execution_count": 42,
     "metadata": {},
     "output_type": "execute_result"
    }
   ],
   "source": [
    "#Stemming the words\n",
    "dataset['Clean_tweet'] = dataset['Clean_tweet'].apply(lambda tweet: [porterStemmer.stem(word) for word in tweet])\n",
    "dataset.Clean_tweet[174]"
   ]
  },
  {
   "cell_type": "code",
   "execution_count": 43,
   "metadata": {},
   "outputs": [
    {
     "data": {
      "text/plain": [
       "'went sxswi lousi ipad sxsw emopo emopo link'"
      ]
     },
     "execution_count": 43,
     "metadata": {},
     "output_type": "execute_result"
    }
   ],
   "source": [
    "#Combine words back to tweets\n",
    "dataset['Clean_tweet'] = dataset['Clean_tweet'].apply(lambda tweet: ' '.join(tweet))\n",
    "dataset.Clean_tweet[174]"
   ]
  },
  {
   "cell_type": "code",
   "execution_count": 44,
   "metadata": {},
   "outputs": [
    {
     "name": "stdout",
     "output_type": "stream",
     "text": [
      "I went to #sxswi and all I won was this lousy #iPad #sxsw :-) :-) {link}\n",
      "went sxswi lousi ipad sxsw emopo emopo link\n"
     ]
    }
   ],
   "source": [
    "#compare Tweets with Clean_Tweets\n",
    "print(dataset.Tweet[174])\n",
    "print(dataset.Clean_tweet[174])"
   ]
  },
  {
   "cell_type": "code",
   "execution_count": 45,
   "metadata": {},
   "outputs": [],
   "source": [
    "cleaned_dataset = dataset.drop('Tweet', axis=1 )"
   ]
  },
  {
   "cell_type": "code",
   "execution_count": 46,
   "metadata": {},
   "outputs": [
    {
     "data": {
      "text/html": [
       "<div>\n",
       "<style scoped>\n",
       "    .dataframe tbody tr th:only-of-type {\n",
       "        vertical-align: middle;\n",
       "    }\n",
       "\n",
       "    .dataframe tbody tr th {\n",
       "        vertical-align: top;\n",
       "    }\n",
       "\n",
       "    .dataframe thead th {\n",
       "        text-align: right;\n",
       "    }\n",
       "</style>\n",
       "<table border=\"1\" class=\"dataframe\">\n",
       "  <thead>\n",
       "    <tr style=\"text-align: right;\">\n",
       "      <th></th>\n",
       "      <th>Brand</th>\n",
       "      <th>Sentiment</th>\n",
       "      <th>Clean_tweet</th>\n",
       "    </tr>\n",
       "  </thead>\n",
       "  <tbody>\n",
       "    <tr>\n",
       "      <td>0</td>\n",
       "      <td>iPhone</td>\n",
       "      <td>0</td>\n",
       "      <td>g iphon hr tweet riseaustin dead need upgrad p...</td>\n",
       "    </tr>\n",
       "    <tr>\n",
       "      <td>1</td>\n",
       "      <td>iPad or iPhone App</td>\n",
       "      <td>4</td>\n",
       "      <td>know awesom ipadiphon app like appreci design ...</td>\n",
       "    </tr>\n",
       "    <tr>\n",
       "      <td>2</td>\n",
       "      <td>iPad</td>\n",
       "      <td>4</td>\n",
       "      <td>not wait ipad also sale sxsw</td>\n",
       "    </tr>\n",
       "    <tr>\n",
       "      <td>3</td>\n",
       "      <td>iPad or iPhone App</td>\n",
       "      <td>0</td>\n",
       "      <td>hope year' festiv crashi year' iphon app sxsw</td>\n",
       "    </tr>\n",
       "    <tr>\n",
       "      <td>4</td>\n",
       "      <td>Google</td>\n",
       "      <td>4</td>\n",
       "      <td>great stuff fri sxsw marissa mayer googl tim o...</td>\n",
       "    </tr>\n",
       "  </tbody>\n",
       "</table>\n",
       "</div>"
      ],
      "text/plain": [
       "                Brand Sentiment  \\\n",
       "0              iPhone         0   \n",
       "1  iPad or iPhone App         4   \n",
       "2                iPad         4   \n",
       "3  iPad or iPhone App         0   \n",
       "4              Google         4   \n",
       "\n",
       "                                         Clean_tweet  \n",
       "0  g iphon hr tweet riseaustin dead need upgrad p...  \n",
       "1  know awesom ipadiphon app like appreci design ...  \n",
       "2                       not wait ipad also sale sxsw  \n",
       "3      hope year' festiv crashi year' iphon app sxsw  \n",
       "4  great stuff fri sxsw marissa mayer googl tim o...  "
      ]
     },
     "execution_count": 46,
     "metadata": {},
     "output_type": "execute_result"
    }
   ],
   "source": [
    "cleaned_dataset.head()"
   ]
  },
  {
   "cell_type": "code",
   "execution_count": 47,
   "metadata": {},
   "outputs": [],
   "source": [
    "#save dataset to csv\n",
    "cleaned_dataset.to_csv('dataset_multi_valued.csv', index=False, header=True)"
   ]
  },
  {
   "cell_type": "code",
   "execution_count": 48,
   "metadata": {},
   "outputs": [],
   "source": [
    "dataset_positive = dataset[dataset['Sentiment'] == '4'] "
   ]
  },
  {
   "cell_type": "code",
   "execution_count": 49,
   "metadata": {},
   "outputs": [],
   "source": [
    "dataset_negative = dataset[dataset['Sentiment'] == '0'] "
   ]
  },
  {
   "cell_type": "code",
   "execution_count": 50,
   "metadata": {},
   "outputs": [
    {
     "data": {
      "text/html": [
       "<div>\n",
       "<style scoped>\n",
       "    .dataframe tbody tr th:only-of-type {\n",
       "        vertical-align: middle;\n",
       "    }\n",
       "\n",
       "    .dataframe tbody tr th {\n",
       "        vertical-align: top;\n",
       "    }\n",
       "\n",
       "    .dataframe thead th {\n",
       "        text-align: right;\n",
       "    }\n",
       "</style>\n",
       "<table border=\"1\" class=\"dataframe\">\n",
       "  <thead>\n",
       "    <tr style=\"text-align: right;\">\n",
       "      <th></th>\n",
       "      <th>Tweet</th>\n",
       "      <th>Brand</th>\n",
       "      <th>Sentiment</th>\n",
       "      <th>Clean_tweet</th>\n",
       "    </tr>\n",
       "  </thead>\n",
       "  <tbody>\n",
       "    <tr>\n",
       "      <td>0</td>\n",
       "      <td>@jessedee Know about @fludapp ? Awesome iPad/i...</td>\n",
       "      <td>iPad or iPhone App</td>\n",
       "      <td>4</td>\n",
       "      <td>know awesom ipadiphon app like appreci design ...</td>\n",
       "    </tr>\n",
       "    <tr>\n",
       "      <td>1</td>\n",
       "      <td>@swonderlin Can not wait for #iPad 2 also. The...</td>\n",
       "      <td>iPad</td>\n",
       "      <td>4</td>\n",
       "      <td>not wait ipad also sale sxsw</td>\n",
       "    </tr>\n",
       "    <tr>\n",
       "      <td>2</td>\n",
       "      <td>@sxtxstate great stuff on Fri #SXSW: Marissa M...</td>\n",
       "      <td>Google</td>\n",
       "      <td>4</td>\n",
       "      <td>great stuff fri sxsw marissa mayer googl tim o...</td>\n",
       "    </tr>\n",
       "    <tr>\n",
       "      <td>3</td>\n",
       "      <td>#SXSW is just starting, #CTIA is around the co...</td>\n",
       "      <td>Android</td>\n",
       "      <td>4</td>\n",
       "      <td>sxsw start ctia around corner googleio hop ski...</td>\n",
       "    </tr>\n",
       "    <tr>\n",
       "      <td>4</td>\n",
       "      <td>Beautifully smart and simple idea RT @madebyma...</td>\n",
       "      <td>iPad or iPhone App</td>\n",
       "      <td>4</td>\n",
       "      <td>beauti smart simpl idea rt wrote hollergram ip...</td>\n",
       "    </tr>\n",
       "  </tbody>\n",
       "</table>\n",
       "</div>"
      ],
      "text/plain": [
       "                                               Tweet               Brand  \\\n",
       "0  @jessedee Know about @fludapp ? Awesome iPad/i...  iPad or iPhone App   \n",
       "1  @swonderlin Can not wait for #iPad 2 also. The...                iPad   \n",
       "2  @sxtxstate great stuff on Fri #SXSW: Marissa M...              Google   \n",
       "3  #SXSW is just starting, #CTIA is around the co...             Android   \n",
       "4  Beautifully smart and simple idea RT @madebyma...  iPad or iPhone App   \n",
       "\n",
       "  Sentiment                                        Clean_tweet  \n",
       "0         4  know awesom ipadiphon app like appreci design ...  \n",
       "1         4                       not wait ipad also sale sxsw  \n",
       "2         4  great stuff fri sxsw marissa mayer googl tim o...  \n",
       "3         4  sxsw start ctia around corner googleio hop ski...  \n",
       "4         4  beauti smart simpl idea rt wrote hollergram ip...  "
      ]
     },
     "execution_count": 50,
     "metadata": {},
     "output_type": "execute_result"
    }
   ],
   "source": [
    "dataset_decided = pd.concat([dataset_positive, dataset_negative ], ignore_index=True)\n",
    "dataset_decided.head()"
   ]
  },
  {
   "cell_type": "code",
   "execution_count": 51,
   "metadata": {},
   "outputs": [
    {
     "data": {
      "text/html": [
       "<div>\n",
       "<style scoped>\n",
       "    .dataframe tbody tr th:only-of-type {\n",
       "        vertical-align: middle;\n",
       "    }\n",
       "\n",
       "    .dataframe tbody tr th {\n",
       "        vertical-align: top;\n",
       "    }\n",
       "\n",
       "    .dataframe thead th {\n",
       "        text-align: right;\n",
       "    }\n",
       "</style>\n",
       "<table border=\"1\" class=\"dataframe\">\n",
       "  <thead>\n",
       "    <tr style=\"text-align: right;\">\n",
       "      <th></th>\n",
       "      <th>Brand</th>\n",
       "      <th>Sentiment</th>\n",
       "      <th>Clean_tweet</th>\n",
       "    </tr>\n",
       "  </thead>\n",
       "  <tbody>\n",
       "    <tr>\n",
       "      <td>0</td>\n",
       "      <td>iPad or iPhone App</td>\n",
       "      <td>4</td>\n",
       "      <td>know awesom ipadiphon app like appreci design ...</td>\n",
       "    </tr>\n",
       "    <tr>\n",
       "      <td>1</td>\n",
       "      <td>iPad</td>\n",
       "      <td>4</td>\n",
       "      <td>not wait ipad also sale sxsw</td>\n",
       "    </tr>\n",
       "    <tr>\n",
       "      <td>2</td>\n",
       "      <td>Google</td>\n",
       "      <td>4</td>\n",
       "      <td>great stuff fri sxsw marissa mayer googl tim o...</td>\n",
       "    </tr>\n",
       "    <tr>\n",
       "      <td>3</td>\n",
       "      <td>Android</td>\n",
       "      <td>4</td>\n",
       "      <td>sxsw start ctia around corner googleio hop ski...</td>\n",
       "    </tr>\n",
       "    <tr>\n",
       "      <td>4</td>\n",
       "      <td>iPad or iPhone App</td>\n",
       "      <td>4</td>\n",
       "      <td>beauti smart simpl idea rt wrote hollergram ip...</td>\n",
       "    </tr>\n",
       "  </tbody>\n",
       "</table>\n",
       "</div>"
      ],
      "text/plain": [
       "                Brand Sentiment  \\\n",
       "0  iPad or iPhone App         4   \n",
       "1                iPad         4   \n",
       "2              Google         4   \n",
       "3             Android         4   \n",
       "4  iPad or iPhone App         4   \n",
       "\n",
       "                                         Clean_tweet  \n",
       "0  know awesom ipadiphon app like appreci design ...  \n",
       "1                       not wait ipad also sale sxsw  \n",
       "2  great stuff fri sxsw marissa mayer googl tim o...  \n",
       "3  sxsw start ctia around corner googleio hop ski...  \n",
       "4  beauti smart simpl idea rt wrote hollergram ip...  "
      ]
     },
     "execution_count": 51,
     "metadata": {},
     "output_type": "execute_result"
    }
   ],
   "source": [
    "#drop tweet column\n",
    "clean_dataset_decided = dataset_decided.drop('Tweet', axis=1 )\n",
    "clean_dataset_decided.head()"
   ]
  },
  {
   "cell_type": "code",
   "execution_count": 52,
   "metadata": {},
   "outputs": [],
   "source": [
    "#save dataset to csv\n",
    "clean_dataset_decided.to_csv('dataset_dichot.csv', index=False, header=True)"
   ]
  },
  {
   "cell_type": "markdown",
   "metadata": {},
   "source": [
    "### Analyze positive tweets"
   ]
  },
  {
   "cell_type": "code",
   "execution_count": 53,
   "metadata": {},
   "outputs": [],
   "source": [
    "positive_tweets = []\n",
    "for tweet in dataset_positive['Clean_tweet']:\n",
    "    positive_tweets.append(tweet)\n",
    "#print(positive_tweets)"
   ]
  },
  {
   "cell_type": "code",
   "execution_count": 54,
   "metadata": {},
   "outputs": [],
   "source": [
    "#Create bag of words for positive tweets.\n",
    "positive_tweets_bag = ''.join([str(tweet) for tweet in dataset_positive['Clean_tweet']])\n",
    "#print(positive_tweets_bag)"
   ]
  },
  {
   "cell_type": "code",
   "execution_count": 55,
   "metadata": {},
   "outputs": [
    {
     "data": {
      "text/plain": [
       "Text(0.5, 1.0, 'Positive tweets Wordcloud')"
      ]
     },
     "execution_count": 55,
     "metadata": {},
     "output_type": "execute_result"
    },
    {
     "data": {
      "image/png": "[encoded data removed]",
      "text/plain": [
       "<Figure size 864x576 with 1 Axes>"
      ]
     },
     "metadata": {
      "needs_background": "light"
     },
     "output_type": "display_data"
    }
   ],
   "source": [
    "wordcloud = WordCloud(stopwords = STOPWORDS, background_color = \"white\", max_words = 1000).generate(positive_tweets_bag)\n",
    "plt.figure(figsize = (12, 8))\n",
    "plt.imshow(wordcloud)\n",
    "plt.axis(\"off\")\n",
    "plt.title(\"Positive tweets Wordcloud\")"
   ]
  },
  {
   "cell_type": "code",
   "execution_count": 56,
   "metadata": {},
   "outputs": [],
   "source": [
    "negative_tweets = []\n",
    "for tweet in dataset_negative['Clean_tweet']:\n",
    "    negative_tweets.append(tweet)\n",
    "#print(positive_tweets)"
   ]
  },
  {
   "cell_type": "code",
   "execution_count": 57,
   "metadata": {},
   "outputs": [],
   "source": [
    "#Create bag of words for negative tweets.\n",
    "negative_tweets_bag = ''.join([str(tweet) for tweet in dataset_negative['Clean_tweet']])\n",
    "#print(negative_tweets_bag)"
   ]
  },
  {
   "cell_type": "code",
   "execution_count": 58,
   "metadata": {},
   "outputs": [
    {
     "data": {
      "text/plain": [
       "Text(0.5, 1.0, 'Negative tweets Wordcloud')"
      ]
     },
     "execution_count": 58,
     "metadata": {},
     "output_type": "execute_result"
    },
    {
     "data": {
      "image/png": "[encoded data removed]",
      "text/plain": [
       "<Figure size 864x576 with 1 Axes>"
      ]
     },
     "metadata": {
      "needs_background": "light"
     },
     "output_type": "display_data"
    }
   ],
   "source": [
    "wordcloud = WordCloud(stopwords = STOPWORDS, background_color = \"white\", max_words = 1000).generate(negative_tweets_bag)\n",
    "plt.figure(figsize = (12, 8))\n",
    "plt.imshow(wordcloud)\n",
    "plt.axis(\"off\")\n",
    "plt.title(\"Negative tweets Wordcloud\")"
   ]
  },
  {
   "cell_type": "code",
   "execution_count": 59,
   "metadata": {},
   "outputs": [],
   "source": [
    "#tokenize positive tweets\n",
    "positive_tokens = word_tokenize(positive_tweets_bag)"
   ]
  },
  {
   "cell_type": "code",
   "execution_count": 60,
   "metadata": {},
   "outputs": [],
   "source": [
    "positive_freqdist = FreqDist(positive_tokens)"
   ]
  },
  {
   "cell_type": "code",
   "execution_count": 61,
   "metadata": {},
   "outputs": [],
   "source": [
    "positive_most_common = positive_freqdist.most_common(200)\n"
   ]
  },
  {
   "cell_type": "code",
   "execution_count": 62,
   "metadata": {},
   "outputs": [
    {
     "data": {
      "text/html": [
       "<div>\n",
       "<style scoped>\n",
       "    .dataframe tbody tr th:only-of-type {\n",
       "        vertical-align: middle;\n",
       "    }\n",
       "\n",
       "    .dataframe tbody tr th {\n",
       "        vertical-align: top;\n",
       "    }\n",
       "\n",
       "    .dataframe thead th {\n",
       "        text-align: right;\n",
       "    }\n",
       "</style>\n",
       "<table border=\"1\" class=\"dataframe\">\n",
       "  <thead>\n",
       "    <tr style=\"text-align: right;\">\n",
       "      <th></th>\n",
       "      <th>words</th>\n",
       "      <th>word_count</th>\n",
       "    </tr>\n",
       "  </thead>\n",
       "  <tbody>\n",
       "    <tr>\n",
       "      <td>0</td>\n",
       "      <td>sxsw</td>\n",
       "      <td>1968</td>\n",
       "    </tr>\n",
       "    <tr>\n",
       "      <td>1</td>\n",
       "      <td>ipad</td>\n",
       "      <td>1079</td>\n",
       "    </tr>\n",
       "    <tr>\n",
       "      <td>2</td>\n",
       "      <td>appl</td>\n",
       "      <td>712</td>\n",
       "    </tr>\n",
       "    <tr>\n",
       "      <td>3</td>\n",
       "      <td>link</td>\n",
       "      <td>554</td>\n",
       "    </tr>\n",
       "    <tr>\n",
       "      <td>4</td>\n",
       "      <td>store</td>\n",
       "      <td>538</td>\n",
       "    </tr>\n",
       "  </tbody>\n",
       "</table>\n",
       "</div>"
      ],
      "text/plain": [
       "   words  word_count\n",
       "0   sxsw        1968\n",
       "1   ipad        1079\n",
       "2   appl         712\n",
       "3   link         554\n",
       "4  store         538"
      ]
     },
     "execution_count": 62,
     "metadata": {},
     "output_type": "execute_result"
    }
   ],
   "source": [
    "#type(positive_most_common)\n",
    "df_positive = pd.DataFrame(positive_most_common, columns = ['words', 'word_count'])\n",
    "df_positive.head()"
   ]
  },
  {
   "cell_type": "markdown",
   "metadata": {},
   "source": [
    "IPad and apple are two of the most frequet word in the positive tweets. \n",
    "\n",
    "'South by Southwest, stylized as SXSW and colloquially referred to as South By, is an annual conglomeration of parallel film, interactive media, and music festivals and conferences organized jointly that take place in mid-March in Austin, Texas, United States.' (Wikipedia)"
   ]
  },
  {
   "cell_type": "code",
   "execution_count": 63,
   "metadata": {
    "scrolled": true
   },
   "outputs": [],
   "source": [
    "#print(positive_most_common)"
   ]
  },
  {
   "cell_type": "code",
   "execution_count": 64,
   "metadata": {
    "scrolled": true
   },
   "outputs": [
    {
     "name": "stdout",
     "output_type": "stream",
     "text": [
      "Word\t\t\tNormalized Frequency\n",
      "sxsw \t\t\t 0.06234\n",
      "ipad \t\t\t 0.03418\n",
      "appl \t\t\t 0.02255\n",
      "link \t\t\t 0.01755\n",
      "store \t\t\t 0.01704\n",
      "googl \t\t\t 0.0159\n",
      "iphon \t\t\t 0.01558\n",
      "' \t\t\t 0.01467\n",
      "app \t\t\t 0.01454\n",
      "rt \t\t\t 0.0108\n",
      "new \t\t\t 0.01061\n",
      "austin \t\t\t 0.008933\n",
      "popup \t\t\t 0.00681\n",
      "get \t\t\t 0.00624\n",
      "launch \t\t\t 0.006082\n",
      "android \t\t\t 0.00586\n",
      "open \t\t\t 0.005733\n",
      "amp \t\t\t 0.005607\n",
      "sxswrt \t\t\t 0.005575\n",
      "go \t\t\t 0.0051\n",
      "linkrt \t\t\t 0.004783\n",
      "not \t\t\t 0.00472\n",
      "i \t\t\t 0.004435\n",
      "one \t\t\t 0.004308\n",
      "time \t\t\t 0.004276\n",
      "parti \t\t\t 0.004245\n",
      "come \t\t\t 0.004054\n",
      "line \t\t\t 0.003896\n",
      "use \t\t\t 0.003833\n",
      "win \t\t\t 0.003801\n",
      "social \t\t\t 0.003801\n",
      "map \t\t\t 0.003706\n",
      "'m \t\t\t 0.003643\n",
      "like \t\t\t 0.003484\n",
      "day \t\t\t 0.003421\n",
      "today \t\t\t 0.003421\n",
      "free \t\t\t 0.003358\n",
      "circl \t\t\t 0.003326\n",
      "cool \t\t\t 0.003073\n",
      "great \t\t\t 0.003009\n",
      "mobil \t\t\t 0.002978\n",
      "network \t\t\t 0.002914\n",
      "downtown \t\t\t 0.002756\n",
      "see \t\t\t 0.002661\n",
      "temporari \t\t\t 0.002566\n",
      "love \t\t\t 0.002534\n",
      "awesom \t\t\t 0.002471\n",
      "peopl \t\t\t 0.002407\n",
      "look \t\t\t 0.002376\n",
      "via \t\t\t 0.002249\n"
     ]
    }
   ],
   "source": [
    "#Normalized frequency for the first most common words in positive tweets.\n",
    "total_word_count_positive = sum(positive_freqdist.values())\n",
    "positive_top_50 = positive_freqdist.most_common(50)\n",
    "print('Word\\t\\t\\tNormalized Frequency')\n",
    "for word in positive_top_50:\n",
    "    normalized_frequency = word[1] / total_word_count_positive\n",
    "    print('{} \\t\\t\\t {:.4}'.format(word[0], normalized_frequency))"
   ]
  },
  {
   "cell_type": "code",
   "execution_count": 65,
   "metadata": {},
   "outputs": [
    {
     "data": {
      "text/plain": [
       "numpy.int64"
      ]
     },
     "execution_count": 65,
     "metadata": {},
     "output_type": "execute_result"
    }
   ],
   "source": [
    "positive_df = pd.DataFrame(positive_most_common, columns = ['word', 'word_count'])\n",
    "positive_df['word_count'] = pd.to_numeric(positive_df['word_count'], errors='ignore')\n",
    "type(positive_df['word_count'][0])"
   ]
  },
  {
   "cell_type": "code",
   "execution_count": 66,
   "metadata": {},
   "outputs": [],
   "source": [
    "#positive_df.to_csv('positive_df.csv', index=False, header=True)"
   ]
  },
  {
   "cell_type": "code",
   "execution_count": 67,
   "metadata": {},
   "outputs": [
    {
     "data": {
      "image/png": "[encoded data removed]",
      "text/plain": [
       "<Figure size 1080x432 with 1 Axes>"
      ]
     },
     "metadata": {
      "needs_background": "light"
     },
     "output_type": "display_data"
    }
   ],
   "source": [
    "x_values=positive_df['word'][:10]\n",
    "y_values=positive_df['word_count'][:10]\n",
    "plt.figure(figsize=(15,6))\n",
    "plt.bar(x_values, y_values, label=\"most frequent words\")\n",
    "plt.xlabel(\"Most common words\")\n",
    "plt.xticks( positive_df['word'][:10], rotation=30) \n",
    "plt.ylabel(\"Frequency\")\n",
    "plt.title('Most frequent 10 words in positive tweets')\n",
    "plt.show()"
   ]
  },
  {
   "cell_type": "markdown",
   "metadata": {},
   "source": [
    "### Analyze negative tweets."
   ]
  },
  {
   "cell_type": "code",
   "execution_count": 68,
   "metadata": {},
   "outputs": [],
   "source": [
    "#tokenize negative tweets\n",
    "negative_tokens = word_tokenize(negative_tweets_bag)"
   ]
  },
  {
   "cell_type": "code",
   "execution_count": 69,
   "metadata": {},
   "outputs": [],
   "source": [
    "negative_freqdist = FreqDist(negative_tokens)"
   ]
  },
  {
   "cell_type": "code",
   "execution_count": 70,
   "metadata": {},
   "outputs": [],
   "source": [
    "negative_most_common = negative_freqdist.most_common(200)"
   ]
  },
  {
   "cell_type": "code",
   "execution_count": 71,
   "metadata": {},
   "outputs": [],
   "source": [
    "#print(negative_most_common)"
   ]
  },
  {
   "cell_type": "code",
   "execution_count": 72,
   "metadata": {},
   "outputs": [
    {
     "name": "stdout",
     "output_type": "stream",
     "text": [
      "Word\t\t\tNormalized Frequency\n",
      "sxsw \t\t\t 0.04441\n",
      "ipad \t\t\t 0.03026\n",
      "iphon \t\t\t 0.02131\n",
      "googl \t\t\t 0.01789\n",
      "' \t\t\t 0.01464\n",
      "not \t\t\t 0.01464\n",
      "app \t\t\t 0.01432\n",
      "appl \t\t\t 0.01285\n",
      "sxswrt \t\t\t 0.008459\n",
      "link \t\t\t 0.007971\n",
      "store \t\t\t 0.006995\n",
      "like \t\t\t 0.006833\n",
      "rt \t\t\t 0.006507\n",
      "new \t\t\t 0.006507\n",
      "need \t\t\t 0.005531\n",
      "circl \t\t\t 0.005531\n",
      "get \t\t\t 0.00488\n",
      "social \t\t\t 0.004718\n",
      "design \t\t\t 0.004718\n",
      "launch \t\t\t 0.004718\n",
      "v \t\t\t 0.004555\n",
      "i \t\t\t 0.004392\n",
      "go \t\t\t 0.00423\n",
      "peopl \t\t\t 0.00423\n",
      "use \t\t\t 0.003742\n",
      "one \t\t\t 0.003742\n",
      "take \t\t\t 0.003579\n",
      "call \t\t\t 0.003416\n",
      "time \t\t\t 0.003416\n",
      "line \t\t\t 0.003254\n",
      "android \t\t\t 0.003254\n",
      "say \t\t\t 0.003254\n",
      "austin \t\t\t 0.003254\n",
      "think \t\t\t 0.003254\n",
      "day \t\t\t 0.003091\n",
      "look \t\t\t 0.003091\n",
      "news \t\t\t 0.002928\n",
      "would \t\t\t 0.002928\n",
      "today \t\t\t 0.002766\n",
      "'m \t\t\t 0.002603\n",
      "batteri \t\t\t 0.002603\n",
      "long \t\t\t 0.002603\n",
      "phone \t\t\t 0.002603\n",
      "fail \t\t\t 0.002603\n",
      "year \t\t\t 0.00244\n",
      "come \t\t\t 0.00244\n",
      "wait \t\t\t 0.00244\n",
      "network \t\t\t 0.00244\n",
      "product \t\t\t 0.00244\n",
      "talk \t\t\t 0.00244\n"
     ]
    }
   ],
   "source": [
    "total_word_count_negative = sum(negative_freqdist.values())\n",
    "negative_top_50 = negative_freqdist.most_common(50)\n",
    "print('Word\\t\\t\\tNormalized Frequency')\n",
    "for word in negative_top_50:\n",
    "    normalized_frequency = word[1] / total_word_count_negative\n",
    "    print('{} \\t\\t\\t {:.4}'.format(word[0], normalized_frequency))"
   ]
  },
  {
   "cell_type": "code",
   "execution_count": 73,
   "metadata": {},
   "outputs": [
    {
     "data": {
      "text/html": [
       "<div>\n",
       "<style scoped>\n",
       "    .dataframe tbody tr th:only-of-type {\n",
       "        vertical-align: middle;\n",
       "    }\n",
       "\n",
       "    .dataframe tbody tr th {\n",
       "        vertical-align: top;\n",
       "    }\n",
       "\n",
       "    .dataframe thead th {\n",
       "        text-align: right;\n",
       "    }\n",
       "</style>\n",
       "<table border=\"1\" class=\"dataframe\">\n",
       "  <thead>\n",
       "    <tr style=\"text-align: right;\">\n",
       "      <th></th>\n",
       "      <th>word</th>\n",
       "      <th>word_count</th>\n",
       "    </tr>\n",
       "  </thead>\n",
       "  <tbody>\n",
       "    <tr>\n",
       "      <td>0</td>\n",
       "      <td>sxsw</td>\n",
       "      <td>273</td>\n",
       "    </tr>\n",
       "    <tr>\n",
       "      <td>1</td>\n",
       "      <td>ipad</td>\n",
       "      <td>186</td>\n",
       "    </tr>\n",
       "    <tr>\n",
       "      <td>2</td>\n",
       "      <td>iphon</td>\n",
       "      <td>131</td>\n",
       "    </tr>\n",
       "    <tr>\n",
       "      <td>3</td>\n",
       "      <td>googl</td>\n",
       "      <td>110</td>\n",
       "    </tr>\n",
       "    <tr>\n",
       "      <td>4</td>\n",
       "      <td>'</td>\n",
       "      <td>90</td>\n",
       "    </tr>\n",
       "    <tr>\n",
       "      <td>5</td>\n",
       "      <td>not</td>\n",
       "      <td>90</td>\n",
       "    </tr>\n",
       "    <tr>\n",
       "      <td>6</td>\n",
       "      <td>app</td>\n",
       "      <td>88</td>\n",
       "    </tr>\n",
       "    <tr>\n",
       "      <td>7</td>\n",
       "      <td>appl</td>\n",
       "      <td>79</td>\n",
       "    </tr>\n",
       "    <tr>\n",
       "      <td>8</td>\n",
       "      <td>sxswrt</td>\n",
       "      <td>52</td>\n",
       "    </tr>\n",
       "    <tr>\n",
       "      <td>9</td>\n",
       "      <td>link</td>\n",
       "      <td>49</td>\n",
       "    </tr>\n",
       "    <tr>\n",
       "      <td>10</td>\n",
       "      <td>store</td>\n",
       "      <td>43</td>\n",
       "    </tr>\n",
       "    <tr>\n",
       "      <td>11</td>\n",
       "      <td>like</td>\n",
       "      <td>42</td>\n",
       "    </tr>\n",
       "    <tr>\n",
       "      <td>12</td>\n",
       "      <td>rt</td>\n",
       "      <td>40</td>\n",
       "    </tr>\n",
       "    <tr>\n",
       "      <td>13</td>\n",
       "      <td>new</td>\n",
       "      <td>40</td>\n",
       "    </tr>\n",
       "    <tr>\n",
       "      <td>14</td>\n",
       "      <td>need</td>\n",
       "      <td>34</td>\n",
       "    </tr>\n",
       "    <tr>\n",
       "      <td>15</td>\n",
       "      <td>circl</td>\n",
       "      <td>34</td>\n",
       "    </tr>\n",
       "    <tr>\n",
       "      <td>16</td>\n",
       "      <td>get</td>\n",
       "      <td>30</td>\n",
       "    </tr>\n",
       "    <tr>\n",
       "      <td>17</td>\n",
       "      <td>social</td>\n",
       "      <td>29</td>\n",
       "    </tr>\n",
       "    <tr>\n",
       "      <td>18</td>\n",
       "      <td>design</td>\n",
       "      <td>29</td>\n",
       "    </tr>\n",
       "    <tr>\n",
       "      <td>19</td>\n",
       "      <td>launch</td>\n",
       "      <td>29</td>\n",
       "    </tr>\n",
       "    <tr>\n",
       "      <td>20</td>\n",
       "      <td>v</td>\n",
       "      <td>28</td>\n",
       "    </tr>\n",
       "    <tr>\n",
       "      <td>21</td>\n",
       "      <td>i</td>\n",
       "      <td>27</td>\n",
       "    </tr>\n",
       "    <tr>\n",
       "      <td>22</td>\n",
       "      <td>go</td>\n",
       "      <td>26</td>\n",
       "    </tr>\n",
       "    <tr>\n",
       "      <td>23</td>\n",
       "      <td>peopl</td>\n",
       "      <td>26</td>\n",
       "    </tr>\n",
       "    <tr>\n",
       "      <td>24</td>\n",
       "      <td>use</td>\n",
       "      <td>23</td>\n",
       "    </tr>\n",
       "  </tbody>\n",
       "</table>\n",
       "</div>"
      ],
      "text/plain": [
       "      word  word_count\n",
       "0     sxsw         273\n",
       "1     ipad         186\n",
       "2    iphon         131\n",
       "3    googl         110\n",
       "4        '          90\n",
       "5      not          90\n",
       "6      app          88\n",
       "7     appl          79\n",
       "8   sxswrt          52\n",
       "9     link          49\n",
       "10   store          43\n",
       "11    like          42\n",
       "12      rt          40\n",
       "13     new          40\n",
       "14    need          34\n",
       "15   circl          34\n",
       "16     get          30\n",
       "17  social          29\n",
       "18  design          29\n",
       "19  launch          29\n",
       "20       v          28\n",
       "21       i          27\n",
       "22      go          26\n",
       "23   peopl          26\n",
       "24     use          23"
      ]
     },
     "execution_count": 73,
     "metadata": {},
     "output_type": "execute_result"
    }
   ],
   "source": [
    "negative_df = pd.DataFrame(negative_most_common, columns = ['word', 'word_count'])\n",
    "negative_df['word_count'] = pd.to_numeric(negative_df['word_count'], errors='ignore')\n",
    "top_negative = negative_df[:25]\n",
    "top_negative"
   ]
  },
  {
   "cell_type": "code",
   "execution_count": 74,
   "metadata": {},
   "outputs": [],
   "source": [
    "#negative_df.to_csv('negative_df.csv', index=False, header=True)"
   ]
  },
  {
   "cell_type": "code",
   "execution_count": 75,
   "metadata": {},
   "outputs": [
    {
     "data": {
      "image/png": "[encoded data removed]",
      "text/plain": [
       "<Figure size 1080x720 with 1 Axes>"
      ]
     },
     "metadata": {
      "needs_background": "light"
     },
     "output_type": "display_data"
    }
   ],
   "source": [
    "x_values=negative_df['word'][:10]\n",
    "y_values=negative_df['word_count'][:10]\n",
    "plt.figure(figsize=(15,10))\n",
    "plt.bar(x_values, y_values, label=\"most frequent words\")\n",
    "plt.xlabel(\"Words\")\n",
    "plt.xticks( top_negative['word'][:10], rotation=40) \n",
    "plt.ylabel(\"Frequency\")\n",
    "plt.title('Most frequent 10 words in negative tweets')\n",
    "plt.show()"
   ]
  },
  {
   "cell_type": "markdown",
   "metadata": {},
   "source": [
    "## Brand column."
   ]
  },
  {
   "cell_type": "code",
   "execution_count": 76,
   "metadata": {},
   "outputs": [
    {
     "data": {
      "text/plain": [
       "iPad                               917\n",
       "Apple                              636\n",
       "iPad or iPhone App                 459\n",
       "Google                             412\n",
       "iPhone                             286\n",
       "Other Google product or service    283\n",
       "Android App                         79\n",
       "Android                             76\n",
       "Other Apple product or service      34\n",
       "Name: Brand, dtype: int64"
      ]
     },
     "execution_count": 76,
     "metadata": {},
     "output_type": "execute_result"
    }
   ],
   "source": [
    "clean_dataset_decided['Brand'].value_counts()"
   ]
  },
  {
   "cell_type": "code",
   "execution_count": 77,
   "metadata": {},
   "outputs": [],
   "source": [
    "#Replace Apple ad=nd Google products and services with the actual brand.\n",
    "clean_dataset_decided.Brand = clean_dataset_decided.Brand.replace({'iPad' : 'apple', 'Apple' : 'apple', 'Apple'  : 'apple', 'iPad or iPhone App' : 'apple','Google'     : 'google','iPhone'   : 'apple', 'Other Google product or service' : 'google','Android App' : 'google', 'Android'  : 'google', 'Other Apple product or service' : 'apple'})"
   ]
  },
  {
   "cell_type": "code",
   "execution_count": 78,
   "metadata": {},
   "outputs": [
    {
     "data": {
      "text/plain": [
       "apple     2332\n",
       "google     850\n",
       "Name: Brand, dtype: int64"
      ]
     },
     "execution_count": 78,
     "metadata": {},
     "output_type": "execute_result"
    }
   ],
   "source": [
    "clean_dataset_decided['Brand'].value_counts()"
   ]
  },
  {
   "cell_type": "code",
   "execution_count": 79,
   "metadata": {},
   "outputs": [
    {
     "data": {
      "text/plain": [
       "True"
      ]
     },
     "execution_count": 79,
     "metadata": {},
     "output_type": "execute_result"
    }
   ],
   "source": [
    "clean_dataset_decided['Brand'].isnull().values.any()"
   ]
  },
  {
   "cell_type": "code",
   "execution_count": 80,
   "metadata": {},
   "outputs": [
    {
     "name": "stdout",
     "output_type": "stream",
     "text": [
      "357\n",
      "     Brand Sentiment                                        Clean_tweet\n",
      "29     NaN         4  handheld hobo drafthous launch hobo shotgun ip...\n",
      "52     NaN         4     spark android teamandroid award sxsw read link\n",
      "63     NaN         4  smallbiz need review play googl placesw got ap...\n",
      "74     NaN         4  sxsw lonelyplanet austin guid iphon free limit...\n",
      "136    NaN         4  first day sxsw fun final present googl doodl g...\n",
      "...    ...       ...                                                ...\n",
      "3514   NaN         0  oh anoth way talk shit net googl launch major ...\n",
      "3521   NaN         0  bad news updat popup appl store ipad not sure ...\n",
      "3522   NaN         0  googl patent someth ie age domain rank algorit...\n",
      "3534   NaN         0  googl guy sxsw talk explain made realist twitt...\n",
      "3537   NaN         0  hey anyon sxsw sign group text app groupm got ...\n",
      "\n",
      "[357 rows x 3 columns]\n"
     ]
    },
    {
     "data": {
      "text/plain": [
       "357"
      ]
     },
     "execution_count": 80,
     "metadata": {},
     "output_type": "execute_result"
    }
   ],
   "source": [
    "check_for_nan = clean_dataset_decided[clean_dataset_decided['Brand'].isnull()]\n",
    "print(len(check_for_nan))\n",
    "print (check_for_nan)\n",
    "nan_index_list = check_for_nan.index\n",
    "len(nan_index_list)"
   ]
  },
  {
   "cell_type": "code",
   "execution_count": 81,
   "metadata": {},
   "outputs": [],
   "source": [
    "brand_vs_sentiment = clean_dataset_decided.drop(nan_index_list)"
   ]
  },
  {
   "cell_type": "code",
   "execution_count": 82,
   "metadata": {},
   "outputs": [
    {
     "data": {
      "text/plain": [
       "3182"
      ]
     },
     "execution_count": 82,
     "metadata": {},
     "output_type": "execute_result"
    }
   ],
   "source": [
    "len(brand_vs_sentiment)"
   ]
  },
  {
   "cell_type": "code",
   "execution_count": 83,
   "metadata": {},
   "outputs": [
    {
     "data": {
      "text/plain": [
       "apple     2332\n",
       "google     850\n",
       "Name: Brand, dtype: int64"
      ]
     },
     "execution_count": 83,
     "metadata": {},
     "output_type": "execute_result"
    }
   ],
   "source": [
    "brand_vs_sentiment['Brand'].value_counts()"
   ]
  },
  {
   "cell_type": "code",
   "execution_count": 84,
   "metadata": {},
   "outputs": [
    {
     "data": {
      "text/plain": [
       "4    2664\n",
       "0     518\n",
       "Name: Sentiment, dtype: int64"
      ]
     },
     "execution_count": 84,
     "metadata": {},
     "output_type": "execute_result"
    }
   ],
   "source": [
    "brand_vs_sentiment['Sentiment'].value_counts()"
   ]
  },
  {
   "cell_type": "code",
   "execution_count": 85,
   "metadata": {},
   "outputs": [
    {
     "data": {
      "image/png": "[encoded data removed]",
      "text/plain": [
       "<Figure size 432x288 with 1 Axes>"
      ]
     },
     "metadata": {
      "needs_background": "light"
     },
     "output_type": "display_data"
    }
   ],
   "source": [
    "ct = pd.crosstab(brand_vs_sentiment.Brand, brand_vs_sentiment.Sentiment)\n",
    "ct.plot.bar(stacked = True)\n",
    "plt.xlabel('Brand ', fontsize = 15)\n",
    "plt.ylabel('Count', fontsize = 15)\n",
    "plt.title('Brand VS Sentiment', fontsize = 15)\n",
    "fbs_ticks = ['Apple', 'Google']\n",
    "plt.xticks([0, 1], fbs_ticks, rotation = 10, fontsize = 12)\n",
    "L = plt.legend()\n",
    "L.get_texts()[1].set_text('Positive')\n",
    "L.get_texts()[0].set_text('Negative')"
   ]
  },
  {
   "cell_type": "code",
   "execution_count": 86,
   "metadata": {},
   "outputs": [
    {
     "data": {
      "text/plain": [
       "4    0.834048\n",
       "0    0.165952\n",
       "Name: Sentiment, dtype: float64"
      ]
     },
     "execution_count": 86,
     "metadata": {},
     "output_type": "execute_result"
    }
   ],
   "source": [
    "apple = brand_vs_sentiment[(brand_vs_sentiment['Brand'] == 'apple')]\n",
    "len(apple)\n",
    "apple.Sentiment.value_counts(normalize= True)"
   ]
  },
  {
   "cell_type": "code",
   "execution_count": 87,
   "metadata": {},
   "outputs": [],
   "source": [
    "google = brand_vs_sentiment[(brand_vs_sentiment['Brand'] == 'google')]"
   ]
  },
  {
   "cell_type": "code",
   "execution_count": 88,
   "metadata": {},
   "outputs": [
    {
     "data": {
      "text/plain": [
       "4    0.845882\n",
       "0    0.154118\n",
       "Name: Sentiment, dtype: float64"
      ]
     },
     "execution_count": 88,
     "metadata": {},
     "output_type": "execute_result"
    }
   ],
   "source": [
    "len(google)\n",
    "google.Sentiment.value_counts(normalize= True)"
   ]
  },
  {
   "cell_type": "code",
   "execution_count": 89,
   "metadata": {},
   "outputs": [
    {
     "data": {
      "image/png": "[encoded data removed]",
      "text/plain": [
       "<Figure size 432x288 with 1 Axes>"
      ]
     },
     "metadata": {},
     "output_type": "display_data"
    }
   ],
   "source": [
    "# Pie chart, where the slices will be ordered and plotted counter-clockwise:\n",
    "labels = 'Negative Emotion', 'Positive Emotion'\n",
    "sizes = [16.59, 83.40]\n",
    "explode = (0, 0.1)  # only \"explode\" the 2nd slice (i.e. 'Hogs')\n",
    "\n",
    "fig1, ax1 = plt.subplots()\n",
    "ax1.pie(sizes, explode=explode, labels=labels, autopct='%1.1f%%',\n",
    "        shadow=True, startangle=90)\n",
    "ax1.axis('equal')  # Equal aspect ratio ensures that pie is drawn as a circle.\n",
    "plt.title('Sentiments towards Apple products')\n",
    "\n",
    "plt.show()"
   ]
  },
  {
   "cell_type": "code",
   "execution_count": 90,
   "metadata": {},
   "outputs": [
    {
     "data": {
      "image/png": "[encoded data removed]",
      "text/plain": [
       "<Figure size 432x288 with 1 Axes>"
      ]
     },
     "metadata": {},
     "output_type": "display_data"
    }
   ],
   "source": [
    "# Pie chart, where the slices will be ordered and plotted counter-clockwise:\n",
    "labels = 'Negative Emotion', 'Positive Emotion'\n",
    "sizes = [15.41, 84.58]\n",
    "explode = (0, 0.1)  # only \"explode\" the 2nd slice (i.e. 'Hogs')\n",
    "\n",
    "fig1, ax1 = plt.subplots()\n",
    "ax1.pie(sizes, explode=explode, labels=labels, autopct='%1.1f%%',\n",
    "        shadow=True, startangle=90)\n",
    "ax1.axis('equal')  # Equal aspect ratio ensures that pie is drawn as a circle.\n",
    "plt.title('Sentiments towards Google products')\n",
    "\n",
    "plt.show()"
   ]
  },
  {
   "cell_type": "markdown",
   "metadata": {},
   "source": [
    "## Word2Vec Model"
   ]
  },
  {
   "cell_type": "code",
   "execution_count": 91,
   "metadata": {},
   "outputs": [],
   "source": [
    "#Import Word2Vec model from gensim.\n",
    "from gensim.models import Word2Vec"
   ]
  },
  {
   "cell_type": "code",
   "execution_count": 92,
   "metadata": {},
   "outputs": [],
   "source": [
    "#tokenize data\n",
    "data = dataset['Clean_tweet'].map(word_tokenize)"
   ]
  },
  {
   "cell_type": "code",
   "execution_count": 93,
   "metadata": {},
   "outputs": [
    {
     "data": {
      "text/plain": [
       "0    [g, iphon, hr, tweet, riseaustin, dead, need, ...\n",
       "1    [know, awesom, ipadiphon, app, like, appreci, ...\n",
       "Name: Clean_tweet, dtype: object"
      ]
     },
     "execution_count": 93,
     "metadata": {},
     "output_type": "execute_result"
    }
   ],
   "source": [
    "data[:2]"
   ]
  },
  {
   "cell_type": "code",
   "execution_count": 94,
   "metadata": {},
   "outputs": [],
   "source": [
    "#Create Word2Vec model\n",
    "model = Word2Vec(data, size=100, window=5, min_count=1, workers=4)"
   ]
  },
  {
   "cell_type": "code",
   "execution_count": 95,
   "metadata": {},
   "outputs": [
    {
     "data": {
      "text/plain": [
       "(759030, 1041060)"
      ]
     },
     "execution_count": 95,
     "metadata": {},
     "output_type": "execute_result"
    }
   ],
   "source": [
    "#train model\n",
    "model.train(data, total_examples=model.corpus_count, epochs=10)"
   ]
  },
  {
   "cell_type": "code",
   "execution_count": 96,
   "metadata": {},
   "outputs": [],
   "source": [
    "wv = model.wv"
   ]
  },
  {
   "cell_type": "code",
   "execution_count": 97,
   "metadata": {},
   "outputs": [
    {
     "data": {
      "text/plain": [
       "[('where', 0.9467887878417969),\n",
       " (\"'til\", 0.9164594411849976),\n",
       " ('lavaca', 0.8958604335784912),\n",
       " ('there', 0.8920108079910278),\n",
       " ('slate', 0.8808940649032593),\n",
       " ('court', 0.8803554773330688),\n",
       " ('latenightgeek', 0.8643692135810852),\n",
       " ('lineand', 0.8626510500907898),\n",
       " ('that', 0.8612185716629028),\n",
       " ('wth', 0.8523169755935669)]"
      ]
     },
     "execution_count": 97,
     "metadata": {},
     "output_type": "execute_result"
    }
   ],
   "source": [
    "#Find most similar words to apple.\n",
    "wv.most_similar('apple')\n"
   ]
  },
  {
   "cell_type": "code",
   "execution_count": 98,
   "metadata": {},
   "outputs": [
    {
     "data": {
      "text/plain": [
       "[('increas', 0.8043666481971741),\n",
       " ('quotgoogl', 0.7967978119850159),\n",
       " ('strike', 0.7869833707809448),\n",
       " ('extraordinari', 0.7833970785140991),\n",
       " ('interest', 0.781915545463562),\n",
       " ('disavow', 0.7807869911193848),\n",
       " ('search', 0.7763938903808594),\n",
       " ('buzzquot', 0.7760405540466309),\n",
       " ('offlin', 0.774359405040741),\n",
       " ('qagb', 0.7742827534675598)]"
      ]
     },
     "execution_count": 98,
     "metadata": {},
     "output_type": "execute_result"
    }
   ],
   "source": [
    "#Find most similar words to google.\n",
    "wv.most_similar('googl')"
   ]
  },
  {
   "cell_type": "code",
   "execution_count": 99,
   "metadata": {},
   "outputs": [
    {
     "data": {
      "text/plain": [
       "[('dpe', 0.6032769680023193),\n",
       " ('lowest', 0.6027263402938843),\n",
       " ('zm', 0.5796699523925781),\n",
       " ('flaw', 0.5564925074577332),\n",
       " ('itsnot', 0.5444504618644714),\n",
       " ('gamelay', 0.5259426832199097),\n",
       " ('comedi', 0.49767106771469116),\n",
       " ('complic', 0.48063069581985474),\n",
       " ('inagist', 0.4037165641784668),\n",
       " ('engine', 0.39503559470176697)]"
      ]
     },
     "execution_count": 99,
     "metadata": {},
     "output_type": "execute_result"
    }
   ],
   "source": [
    "#Least similar words to apple\n",
    "wv.most_similar(negative='appl')"
   ]
  },
  {
   "cell_type": "code",
   "execution_count": 100,
   "metadata": {},
   "outputs": [
    {
     "data": {
      "text/plain": [
       "[('gamelay', 0.6022189855575562),\n",
       " ('dpe', 0.5803254842758179),\n",
       " ('itsnot', 0.5331504344940186),\n",
       " ('lowest', 0.5225752592086792),\n",
       " ('flaw', 0.48930758237838745),\n",
       " ('complic', 0.4871925711631775),\n",
       " ('zm', 0.46731075644493103),\n",
       " ('comedi', 0.4562053680419922),\n",
       " ('tcrnchebfj', 0.44913560152053833),\n",
       " ('inagist', 0.4350650906562805)]"
      ]
     },
     "execution_count": 100,
     "metadata": {},
     "output_type": "execute_result"
    }
   ],
   "source": [
    "#Least similar words to google.\n",
    "wv.most_similar(negative='googl')"
   ]
  },
  {
   "cell_type": "code",
   "execution_count": null,
   "metadata": {},
   "outputs": [],
   "source": []
  },
  {
   "cell_type": "code",
   "execution_count": null,
   "metadata": {},
   "outputs": [],
   "source": []
  }
 ],
 "metadata": {
  "kernelspec": {
   "display_name": "Python 3",
   "language": "python",
   "name": "python3"
  },
  "language_info": {
   "codemirror_mode": {
    "name": "ipython",
    "version": 3
   },
   "file_extension": ".py",
   "mimetype": "text/x-python",
   "name": "python",
   "nbconvert_exporter": "python",
   "pygments_lexer": "ipython3",
   "version": "3.6.9"
  }
 },
 "nbformat": 4,
 "nbformat_minor": 2
}
