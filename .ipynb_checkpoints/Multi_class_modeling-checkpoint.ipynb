{
 "cells": [
  {
   "cell_type": "code",
   "execution_count": 1,
   "metadata": {},
   "outputs": [
    {
     "name": "stderr",
     "output_type": "stream",
     "text": [
      "Using TensorFlow backend.\n"
     ]
    }
   ],
   "source": [
    "### Import necessary libraries & packages ###\n",
    "import os\n",
    "import tensorflow as tf\n",
    "#os.environ['KERAS_BACKEND'] = 'tensorflow'\n",
    "\n",
    "import pandas as pd\n",
    "import numpy as np\n",
    "\n",
    "import matplotlib.pyplot as plt\n",
    "import seaborn as sns\n",
    "%matplotlib inline\n",
    "plt.style.use('seaborn')\n",
    "\n",
    "import warnings\n",
    "warnings.filterwarnings('ignore')\n",
    "\n",
    "from sklearn.pipeline import Pipeline\n",
    "from sklearn.model_selection import cross_val_score\n",
    "\n",
    "from sklearn.linear_model import LogisticRegression\n",
    "from sklearn.ensemble import RandomForestClassifier\n",
    "from sklearn.neighbors import KNeighborsClassifier\n",
    "from sklearn.svm import SVC\n",
    "from sklearn import svm\n",
    "import xgboost as xgb\n",
    "\n",
    "\n",
    "import keras\n",
    "from keras.models import Sequential\n",
    "from keras.layers import Dense, Embedding, LSTM, SpatialDropout1D\n",
    "from keras.preprocessing.text import Tokenizer\n",
    "from keras.preprocessing.sequence import pad_sequences\n",
    "\n",
    "from sklearn.model_selection import train_test_split,cross_val_score\n",
    "\n",
    "from sklearn.metrics import roc_curve, roc_auc_score, precision_score, accuracy_score, recall_score, f1_score, confusion_matrix, classification_report\n",
    "from sklearn import metrics\n",
    "# Our custom functions #\n",
    "#%run clf_functions.ipynb\n",
    "\n",
    "from nltk import word_tokenize\n",
    "from gensim.models import word2vec"
   ]
  },
  {
   "cell_type": "markdown",
   "metadata": {},
   "source": [
    "GloVe - Global Vector for Word Representation from Stanford NLP Group. This file containes pre-trained word vectors for 6 billion words and phrases."
   ]
  },
  {
   "cell_type": "code",
   "execution_count": 2,
   "metadata": {},
   "outputs": [],
   "source": [
    "#unzip the glove.\n",
    "from zipfile import ZipFile\n",
    "ZipFile(\"glove.6B.50d.txt.zip\").extractall(\"\")"
   ]
  },
  {
   "cell_type": "code",
   "execution_count": 3,
   "metadata": {},
   "outputs": [
    {
     "name": "stdout",
     "output_type": "stream",
     "text": [
      "9070\n"
     ]
    },
    {
     "data": {
      "text/html": [
       "<div>\n",
       "<style scoped>\n",
       "    .dataframe tbody tr th:only-of-type {\n",
       "        vertical-align: middle;\n",
       "    }\n",
       "\n",
       "    .dataframe tbody tr th {\n",
       "        vertical-align: top;\n",
       "    }\n",
       "\n",
       "    .dataframe thead th {\n",
       "        text-align: right;\n",
       "    }\n",
       "</style>\n",
       "<table border=\"1\" class=\"dataframe\">\n",
       "  <thead>\n",
       "    <tr style=\"text-align: right;\">\n",
       "      <th></th>\n",
       "      <th>Brand</th>\n",
       "      <th>Sentiment</th>\n",
       "      <th>Clean_tweet</th>\n",
       "    </tr>\n",
       "  </thead>\n",
       "  <tbody>\n",
       "    <tr>\n",
       "      <td>0</td>\n",
       "      <td>iPhone</td>\n",
       "      <td>0</td>\n",
       "      <td>g iphon hr tweet riseaustin dead need upgrad p...</td>\n",
       "    </tr>\n",
       "    <tr>\n",
       "      <td>1</td>\n",
       "      <td>iPad or iPhone App</td>\n",
       "      <td>4</td>\n",
       "      <td>know awesom ipadiphon app like appreci design ...</td>\n",
       "    </tr>\n",
       "    <tr>\n",
       "      <td>2</td>\n",
       "      <td>iPad</td>\n",
       "      <td>4</td>\n",
       "      <td>not wait ipad also sale sxsw</td>\n",
       "    </tr>\n",
       "    <tr>\n",
       "      <td>3</td>\n",
       "      <td>iPad or iPhone App</td>\n",
       "      <td>0</td>\n",
       "      <td>hope year' festiv crashi year' iphon app sxsw</td>\n",
       "    </tr>\n",
       "    <tr>\n",
       "      <td>4</td>\n",
       "      <td>Google</td>\n",
       "      <td>4</td>\n",
       "      <td>great stuff fri sxsw marissa mayer googl tim o...</td>\n",
       "    </tr>\n",
       "  </tbody>\n",
       "</table>\n",
       "</div>"
      ],
      "text/plain": [
       "                Brand  Sentiment  \\\n",
       "0              iPhone          0   \n",
       "1  iPad or iPhone App          4   \n",
       "2                iPad          4   \n",
       "3  iPad or iPhone App          0   \n",
       "4              Google          4   \n",
       "\n",
       "                                         Clean_tweet  \n",
       "0  g iphon hr tweet riseaustin dead need upgrad p...  \n",
       "1  know awesom ipadiphon app like appreci design ...  \n",
       "2                       not wait ipad also sale sxsw  \n",
       "3      hope year' festiv crashi year' iphon app sxsw  \n",
       "4  great stuff fri sxsw marissa mayer googl tim o...  "
      ]
     },
     "execution_count": 3,
     "metadata": {},
     "output_type": "execute_result"
    }
   ],
   "source": [
    "#load the data and turn it into a dataframe.\n",
    "df = pd.read_csv('dataset_multi_valued.csv')\n",
    "print(len(df))\n",
    "df.head()"
   ]
  },
  {
   "cell_type": "code",
   "execution_count": 4,
   "metadata": {},
   "outputs": [],
   "source": [
    "#Store the column that will be the target, 'Sentiment', in the variable target.\n",
    "target = df['Sentiment']\n",
    "#Store the Clean_tweet column in the variable data.\n",
    "data = df['Clean_tweet'].map(word_tokenize).values"
   ]
  },
  {
   "cell_type": "code",
   "execution_count": 5,
   "metadata": {},
   "outputs": [],
   "source": [
    "#add every token from every comment in data into a set\n",
    "#store the set in the variable total_vocabulary.\n",
    "total_vocabulary = set(word for tweet in data for word in tweet)"
   ]
  },
  {
   "cell_type": "code",
   "execution_count": 6,
   "metadata": {},
   "outputs": [
    {
     "name": "stdout",
     "output_type": "stream",
     "text": [
      "There are 8278 unique tokens in the dataset.\n"
     ]
    }
   ],
   "source": [
    "#Check the length of the total vocabulary.\n",
    "len(total_vocabulary)\n",
    "print('There are {} unique tokens in the dataset.'.format(len(total_vocabulary)))"
   ]
  },
  {
   "cell_type": "code",
   "execution_count": 7,
   "metadata": {},
   "outputs": [],
   "source": [
    "#get all the words in the total_vocabulary and their corresponding vocabulary.\n",
    "#stored them within dictionary, glove, as key/value pairs.\n",
    "glove = {}\n",
    "with open('glove.6B.50d.txt', 'rb') as f:\n",
    "    for line in f:\n",
    "        parts = line.split()\n",
    "        word = parts[0].decode('utf-8')\n",
    "        if word in total_vocabulary:\n",
    "            vector = np.array(parts[1:], dtype=np.float32)\n",
    "            glove[word] = vector"
   ]
  },
  {
   "cell_type": "code",
   "execution_count": 8,
   "metadata": {},
   "outputs": [
    {
     "data": {
      "text/plain": [
       "array([ 0.37654 , -0.11085 ,  0.44753 ,  0.074111,  1.2254  , -0.47413 ,\n",
       "       -1.7132  , -0.5622  ,  0.79129 ,  0.046365,  0.059305, -0.54642 ,\n",
       "       -0.18154 , -0.44504 ,  0.71593 ,  0.66323 , -0.82844 ,  0.25531 ,\n",
       "        0.22561 , -0.76825 ,  1.7314  , -0.35955 , -0.83919 ,  0.98962 ,\n",
       "       -1.0577  , -0.89327 , -0.9075  ,  0.5392  ,  1.1759  , -1.0481  ,\n",
       "        2.3297  , -0.24447 ,  0.6385  ,  0.06974 ,  0.38696 ,  0.32883 ,\n",
       "        0.11177 ,  0.58524 ,  0.82529 ,  0.023072,  0.6235  , -0.036357,\n",
       "       -0.28549 , -0.14505 ,  0.50543 ,  0.27194 , -0.10292 , -0.96804 ,\n",
       "        0.28179 ,  0.50417 ], dtype=float32)"
      ]
     },
     "execution_count": 8,
     "metadata": {},
     "output_type": "execute_result"
    }
   ],
   "source": [
    "#Check if it worked.\n",
    "glove['store']"
   ]
  },
  {
   "cell_type": "markdown",
   "metadata": {},
   "source": [
    "Word2vec is a learned representation that processes text by “vectorizing” words.\n",
    "Its input is a text corpus and its output is a set of vectors, (one vector per word): feature vectors that represent words in that corpus. Words that have the same meaning will have a similar representation. Word2vec turns text into a numerical form that deep neural networks can understand.  "
   ]
  },
  {
   "cell_type": "code",
   "execution_count": 9,
   "metadata": {},
   "outputs": [],
   "source": [
    "#Create word embeddings.\n",
    "class W2vVectorizer(object):\n",
    "    \n",
    "    def __init__(self, w2v):\n",
    "        # Takes in a dictionary of words and vectors as input\n",
    "        self.w2v = w2v\n",
    "        if len(w2v) == 0:\n",
    "            self.dimensions = 0\n",
    "        else:\n",
    "            self.dimensions = len(w2v[next(iter(glove))])\n",
    "    \n",
    "    # Note: Even though it doesn't do anything, it's required that this object implement a fit method or else\n",
    "    # it can't be used in a scikit-learn pipeline  \n",
    "    def fit(self, X, y):\n",
    "        return self\n",
    "            \n",
    "    def transform(self, X):\n",
    "        return np.array([\n",
    "            np.mean([self.w2v[w] for w in words if w in self.w2v]\n",
    "                   or [np.zeros(self.dimensions)], axis=0) for words in X])"
   ]
  },
  {
   "cell_type": "code",
   "execution_count": 10,
   "metadata": {},
   "outputs": [],
   "source": [
    "#Create pipeline objects that make use of the mean embedding vectorizer that we built above.\n",
    "rf =  Pipeline([('Word2Vec Vectorizer', W2vVectorizer(glove)),\n",
    "              ('Random Forest', RandomForestClassifier(n_estimators=100, verbose=True))])\n",
    "svc = Pipeline([('Word2Vec Vectorizer', W2vVectorizer(glove)),\n",
    "                ('Support Vector Machine', SVC())])\n",
    "lr = Pipeline([('Word2Vec Vectorizer', W2vVectorizer(glove)),\n",
    "              ('Logistic Regression', LogisticRegression())])\n",
    "knn = Pipeline([('Word2Vec Vectorizer', W2vVectorizer(glove)),\n",
    "              ('KNeighbors', KNeighborsClassifier())])\n",
    "xgb = Pipeline([('Word2Vec Vectorizer', W2vVectorizer(glove)),\n",
    "              ('XGBoost', xgb.XGBClassifier(random_state=30))])"
   ]
  },
  {
   "cell_type": "code",
   "execution_count": 11,
   "metadata": {},
   "outputs": [],
   "source": [
    "#Create a list that contains a tuple for each pipeline, where the first item in the tuple is the classifier name, and the second item in the list is the actual pipeline object.\n",
    "models = [('Random Forest', rf),\n",
    "          ('Support Vector Machine', svc),\n",
    "          ('Logistic Regression', lr),\n",
    "          ('KNeighbors', knn),\n",
    "          ('XGBoost', xgb)]"
   ]
  },
  {
   "cell_type": "markdown",
   "metadata": {},
   "source": [
    "In our case:\n",
    "\n",
    "A false positive is a tweet predicted to be positive and in reality is negative.\n",
    "\n",
    "A false negative is a tweet predicted to be negative and in reality is positive.\n",
    "\n",
    "A true positive is a positive tweet that is predicted positive by our model.\n",
    "\n",
    "A true negstive is a tweet that is negative and it's also prediceted negative by our model.\n",
    "\n",
    "True negatives and true positives are tweets that were correctly classified.\n",
    "\n",
    "Accuracy is the percentage of examples correctly classified: true samples divided by total samples. How many samples were correctly classified out of the total samples."
   ]
  },
  {
   "cell_type": "code",
   "execution_count": 12,
   "metadata": {},
   "outputs": [
    {
     "name": "stderr",
     "output_type": "stream",
     "text": [
      "[Parallel(n_jobs=1)]: Using backend SequentialBackend with 1 concurrent workers.\n",
      "[Parallel(n_jobs=1)]: Done 100 out of 100 | elapsed:    2.7s finished\n",
      "[Parallel(n_jobs=1)]: Using backend SequentialBackend with 1 concurrent workers.\n",
      "[Parallel(n_jobs=1)]: Done 100 out of 100 | elapsed:    0.0s finished\n",
      "[Parallel(n_jobs=1)]: Using backend SequentialBackend with 1 concurrent workers.\n",
      "[Parallel(n_jobs=1)]: Done 100 out of 100 | elapsed:    2.7s finished\n",
      "[Parallel(n_jobs=1)]: Using backend SequentialBackend with 1 concurrent workers.\n",
      "[Parallel(n_jobs=1)]: Done 100 out of 100 | elapsed:    0.0s finished\n",
      "[Parallel(n_jobs=1)]: Using backend SequentialBackend with 1 concurrent workers.\n",
      "[Parallel(n_jobs=1)]: Done 100 out of 100 | elapsed:    2.7s finished\n",
      "[Parallel(n_jobs=1)]: Using backend SequentialBackend with 1 concurrent workers.\n",
      "[Parallel(n_jobs=1)]: Done 100 out of 100 | elapsed:    0.0s finished\n"
     ]
    }
   ],
   "source": [
    "#Train and cross validate each one of the models and store the estimates the expected accuracy in an array.\n",
    "scores = [(name, cross_val_score(model, data, target, cv=3).mean()) for name, model, in models]"
   ]
  },
  {
   "cell_type": "code",
   "execution_count": 13,
   "metadata": {},
   "outputs": [
    {
     "data": {
      "text/plain": [
       "[('Random Forest', 0.6208366015474994),\n",
       " ('Support Vector Machine', 0.5926130189311305),\n",
       " ('Logistic Regression', 0.6079383171264927),\n",
       " ('KNeighbors', 0.586879491605942),\n",
       " ('XGBoost', 0.6138917193958006)]"
      ]
     },
     "execution_count": 13,
     "metadata": {},
     "output_type": "execute_result"
    }
   ],
   "source": [
    "scores"
   ]
  },
  {
   "cell_type": "markdown",
   "metadata": {},
   "source": [
    "There are 2 possible categories that tweets could be classified into. This means the naive accuracy rate (random guessing) would achieve an accuracy of over 0.5. Our models are way better than that."
   ]
  },
  {
   "cell_type": "code",
   "execution_count": 14,
   "metadata": {},
   "outputs": [],
   "source": [
    "#store scores in a dataframe\n",
    "scores_df = pd.DataFrame(scores, columns = ['Classifier_name', 'Classifier_score'])"
   ]
  },
  {
   "cell_type": "code",
   "execution_count": 15,
   "metadata": {},
   "outputs": [
    {
     "data": {
      "text/html": [
       "<div>\n",
       "<style scoped>\n",
       "    .dataframe tbody tr th:only-of-type {\n",
       "        vertical-align: middle;\n",
       "    }\n",
       "\n",
       "    .dataframe tbody tr th {\n",
       "        vertical-align: top;\n",
       "    }\n",
       "\n",
       "    .dataframe thead th {\n",
       "        text-align: right;\n",
       "    }\n",
       "</style>\n",
       "<table border=\"1\" class=\"dataframe\">\n",
       "  <thead>\n",
       "    <tr style=\"text-align: right;\">\n",
       "      <th></th>\n",
       "      <th>Classifier_name</th>\n",
       "      <th>Classifier_score</th>\n",
       "    </tr>\n",
       "  </thead>\n",
       "  <tbody>\n",
       "    <tr>\n",
       "      <td>0</td>\n",
       "      <td>Random Forest</td>\n",
       "      <td>0.620837</td>\n",
       "    </tr>\n",
       "    <tr>\n",
       "      <td>1</td>\n",
       "      <td>Support Vector Machine</td>\n",
       "      <td>0.592613</td>\n",
       "    </tr>\n",
       "    <tr>\n",
       "      <td>2</td>\n",
       "      <td>Logistic Regression</td>\n",
       "      <td>0.607938</td>\n",
       "    </tr>\n",
       "    <tr>\n",
       "      <td>3</td>\n",
       "      <td>KNeighbors</td>\n",
       "      <td>0.586879</td>\n",
       "    </tr>\n",
       "    <tr>\n",
       "      <td>4</td>\n",
       "      <td>XGBoost</td>\n",
       "      <td>0.613892</td>\n",
       "    </tr>\n",
       "  </tbody>\n",
       "</table>\n",
       "</div>"
      ],
      "text/plain": [
       "          Classifier_name  Classifier_score\n",
       "0           Random Forest          0.620837\n",
       "1  Support Vector Machine          0.592613\n",
       "2     Logistic Regression          0.607938\n",
       "3              KNeighbors          0.586879\n",
       "4                 XGBoost          0.613892"
      ]
     },
     "execution_count": 15,
     "metadata": {},
     "output_type": "execute_result"
    }
   ],
   "source": [
    "scores_df"
   ]
  },
  {
   "cell_type": "code",
   "execution_count": 16,
   "metadata": {},
   "outputs": [
    {
     "data": {
      "image/png": "[encoded data removed]",
      "text/plain": [
       "<Figure size 720x360 with 1 Axes>"
      ]
     },
     "metadata": {
      "needs_background": "light"
     },
     "output_type": "display_data"
    }
   ],
   "source": [
    "#Plot scores\n",
    "x_values=scores_df['Classifier_name']\n",
    "y_values=scores_df['Classifier_score']\n",
    "plt.figure(figsize=(10,5))\n",
    "plt.bar(x_values, y_values, label=\"Classifiers\")\n",
    "plt.xlabel('Classifier_name')\n",
    "plt.xticks( scores_df['Classifier_name'], rotation=30) \n",
    "plt.ylabel(\"Classifier_score\")\n",
    "plt.title('Classifiers scores compared')\n",
    "plt.show()"
   ]
  },
  {
   "cell_type": "code",
   "execution_count": 17,
   "metadata": {},
   "outputs": [],
   "source": [
    "# Train test split\n",
    "X_train, X_test, y_train, y_test = train_test_split(df['Clean_tweet'], df['Sentiment'], test_size = 0.20, random_state = 100)"
   ]
  },
  {
   "cell_type": "markdown",
   "metadata": {},
   "source": [
    "'fit_on_texts' -  Updates internal vocabulary based on a list of texts. This method creates the vocabulary index based on word frequency. So if you give it something like, \"The cat sat on the mat.\" It will create a dictionary s.t. word_index[\"the\"] = 1; word_index[\"cat\"] = 2 it is word -> index dictionary so every word gets a unique integer value. 0 is reserved for padding. So lower integer means more frequent word (often the first few are stop words because they appear a lot).\n",
    "\n",
    "'texts_to_sequences' -  Transforms each text in texts to a sequence of integers. So it basically takes each word in the text and replaces it with its corresponding integer value from the word_index dictionary. \n",
    "\n",
    "'pad_sequences' - This function transforms a list of num_samples sequences (lists of integers) into a matrix of shape (num_samples, num_timesteps). num_timesteps is either the maxlen argument if provided, or the length of the longest sequence otherwise.\n",
    "\n",
    "Sequences that are shorter than num_timesteps are padded with value at the end.\n",
    "\n",
    "Sequences longer than num_timesteps are truncated so that they fit the desired length. The position where padding or truncation happens is determined by the arguments padding and truncating, respectively."
   ]
  },
  {
   "cell_type": "code",
   "execution_count": 18,
   "metadata": {},
   "outputs": [],
   "source": [
    "# Tokenization\n",
    "#limit vocabulary to 2000.\n",
    "tokenizer = Tokenizer(num_words = 2000, split = ' ')\n",
    "tokenizer.fit_on_texts(X_train.astype(str).values)\n",
    "train_tweets = tokenizer.texts_to_sequences(X_train.astype(str).values)\n",
    "max_len = max([len(i) for i in train_tweets])\n",
    "train_tweets = pad_sequences(train_tweets, maxlen = max_len)\n",
    "test_tweets = tokenizer.texts_to_sequences(X_test.astype(str).values)\n",
    "test_tweets = pad_sequences(test_tweets, maxlen = max_len)"
   ]
  },
  {
   "cell_type": "code",
   "execution_count": 19,
   "metadata": {},
   "outputs": [
    {
     "data": {
      "text/plain": [
       "array([[  0,   0,   0, ..., 119, 701, 597],\n",
       "       [  0,   0,   0, ...,   2,   1,  15],\n",
       "       [  0,   0,   0, ..., 332,   1, 277],\n",
       "       ...,\n",
       "       [  0,   0,   0, ..., 340, 255,   1],\n",
       "       [  0,   0,   0, ...,  11,   3,   1],\n",
       "       [  0,   0,   0, ...,  15,   1,   4]], dtype=int32)"
      ]
     },
     "execution_count": 19,
     "metadata": {},
     "output_type": "execute_result"
    }
   ],
   "source": [
    "test_tweets"
   ]
  },
  {
   "cell_type": "code",
   "execution_count": 20,
   "metadata": {},
   "outputs": [
    {
     "name": "stdout",
     "output_type": "stream",
     "text": [
      "_________________________________________________________________\n",
      "Layer (type)                 Output Shape              Param #   \n",
      "=================================================================\n",
      "embedding_1 (Embedding)      (None, 20, 128)           256000    \n",
      "_________________________________________________________________\n",
      "spatial_dropout1d_1 (Spatial (None, 20, 128)           0         \n",
      "_________________________________________________________________\n",
      "lstm_1 (LSTM)                (None, 256)               394240    \n",
      "_________________________________________________________________\n",
      "dense_1 (Dense)              (None, 4)                 1028      \n",
      "=================================================================\n",
      "Total params: 651,268\n",
      "Trainable params: 651,268\n",
      "Non-trainable params: 0\n",
      "_________________________________________________________________\n"
     ]
    }
   ],
   "source": [
    "#construct the neural network\n",
    "model = Sequential()\n",
    "model.add(Embedding(2000, 128, input_length = train_tweets.shape[1]))\n",
    "model.add(SpatialDropout1D(0.4))\n",
    "model.add(LSTM(256, dropout = 0.2))\n",
    "model.add(Dense(4, activation = 'softmax'))\n",
    "model.compile(loss = 'categorical_crossentropy', optimizer = 'adam', metrics = ['accuracy'])\n",
    "model.summary()"
   ]
  },
  {
   "cell_type": "code",
   "execution_count": 21,
   "metadata": {},
   "outputs": [
    {
     "name": "stdout",
     "output_type": "stream",
     "text": [
      "Train on 5804 samples, validate on 1452 samples\n",
      "Epoch 1/10\n",
      "5804/5804 [==============================] - 4s 702us/step - loss: 0.9789 - acc: 0.5744 - val_loss: 0.9029 - val_acc: 0.6012\n",
      "Epoch 2/10\n",
      "5804/5804 [==============================] - 4s 609us/step - loss: 0.8717 - acc: 0.6001 - val_loss: 0.8229 - val_acc: 0.6295\n",
      "Epoch 3/10\n",
      "5804/5804 [==============================] - 4s 621us/step - loss: 0.7876 - acc: 0.6556 - val_loss: 0.7654 - val_acc: 0.6660\n",
      "Epoch 4/10\n",
      "5804/5804 [==============================] - 4s 618us/step - loss: 0.6958 - acc: 0.7062 - val_loss: 0.7551 - val_acc: 0.6749\n",
      "Epoch 5/10\n",
      "5804/5804 [==============================] - 4s 622us/step - loss: 0.6253 - acc: 0.7433 - val_loss: 0.7665 - val_acc: 0.6736\n",
      "Epoch 6/10\n",
      "5804/5804 [==============================] - 4s 631us/step - loss: 0.5788 - acc: 0.7676 - val_loss: 0.7908 - val_acc: 0.6667\n",
      "Epoch 7/10\n",
      "5804/5804 [==============================] - 4s 638us/step - loss: 0.5401 - acc: 0.7827 - val_loss: 0.8226 - val_acc: 0.6563\n",
      "Epoch 8/10\n",
      "5804/5804 [==============================] - 4s 635us/step - loss: 0.5137 - acc: 0.7970 - val_loss: 0.8317 - val_acc: 0.6687\n",
      "Epoch 9/10\n",
      "5804/5804 [==============================] - 4s 653us/step - loss: 0.4933 - acc: 0.8041 - val_loss: 0.8562 - val_acc: 0.6694\n",
      "Epoch 10/10\n",
      "5804/5804 [==============================] - 4s 648us/step - loss: 0.4574 - acc: 0.8158 - val_loss: 0.9179 - val_acc: 0.6687\n"
     ]
    }
   ],
   "source": [
    "# Training the model\n",
    "history = model.fit(train_tweets, pd.get_dummies(y_train).values, epochs = 10, batch_size = 128, validation_split = 0.2)"
   ]
  },
  {
   "cell_type": "code",
   "execution_count": 22,
   "metadata": {},
   "outputs": [
    {
     "name": "stdout",
     "output_type": "stream",
     "text": [
      "1814/1814 [==============================] - 0s 163us/step\n",
      "Test accuracy: 0.658765\n"
     ]
    }
   ],
   "source": [
    "# Testing the model\n",
    "score, accuracy = model.evaluate(test_tweets, pd.get_dummies(y_test).values, batch_size = 128)\n",
    "print(\"Test accuracy: {0:.6f}\".format(accuracy))\n"
   ]
  },
  {
   "cell_type": "code",
   "execution_count": 23,
   "metadata": {},
   "outputs": [],
   "source": [
    "#add row in score df\n",
    "keras_row= {'Classifier_name': 'Keras model','Classifier_score': \"{0:.6f}\".format(accuracy)}\n",
    "#append row to the dataframe\n",
    "scores_df = scores_df.append(keras_row, ignore_index=True)"
   ]
  },
  {
   "cell_type": "code",
   "execution_count": 24,
   "metadata": {},
   "outputs": [],
   "source": [
    "#turn classifier score column into numeric data\n",
    "scores_df['Classifier_score'] = pd.to_numeric(scores_df['Classifier_score'], errors='ignore')"
   ]
  },
  {
   "cell_type": "code",
   "execution_count": 25,
   "metadata": {},
   "outputs": [
    {
     "data": {
      "text/html": [
       "<div>\n",
       "<style scoped>\n",
       "    .dataframe tbody tr th:only-of-type {\n",
       "        vertical-align: middle;\n",
       "    }\n",
       "\n",
       "    .dataframe tbody tr th {\n",
       "        vertical-align: top;\n",
       "    }\n",
       "\n",
       "    .dataframe thead th {\n",
       "        text-align: right;\n",
       "    }\n",
       "</style>\n",
       "<table border=\"1\" class=\"dataframe\">\n",
       "  <thead>\n",
       "    <tr style=\"text-align: right;\">\n",
       "      <th></th>\n",
       "      <th>Classifier_name</th>\n",
       "      <th>Classifier_score</th>\n",
       "    </tr>\n",
       "  </thead>\n",
       "  <tbody>\n",
       "    <tr>\n",
       "      <td>0</td>\n",
       "      <td>Random Forest</td>\n",
       "      <td>0.620837</td>\n",
       "    </tr>\n",
       "    <tr>\n",
       "      <td>1</td>\n",
       "      <td>Support Vector Machine</td>\n",
       "      <td>0.592613</td>\n",
       "    </tr>\n",
       "    <tr>\n",
       "      <td>2</td>\n",
       "      <td>Logistic Regression</td>\n",
       "      <td>0.607938</td>\n",
       "    </tr>\n",
       "    <tr>\n",
       "      <td>3</td>\n",
       "      <td>KNeighbors</td>\n",
       "      <td>0.586879</td>\n",
       "    </tr>\n",
       "    <tr>\n",
       "      <td>4</td>\n",
       "      <td>XGBoost</td>\n",
       "      <td>0.613892</td>\n",
       "    </tr>\n",
       "    <tr>\n",
       "      <td>5</td>\n",
       "      <td>Keras model</td>\n",
       "      <td>0.658765</td>\n",
       "    </tr>\n",
       "  </tbody>\n",
       "</table>\n",
       "</div>"
      ],
      "text/plain": [
       "          Classifier_name  Classifier_score\n",
       "0           Random Forest          0.620837\n",
       "1  Support Vector Machine          0.592613\n",
       "2     Logistic Regression          0.607938\n",
       "3              KNeighbors          0.586879\n",
       "4                 XGBoost          0.613892\n",
       "5             Keras model          0.658765"
      ]
     },
     "execution_count": 25,
     "metadata": {},
     "output_type": "execute_result"
    }
   ],
   "source": [
    "scores_df"
   ]
  },
  {
   "cell_type": "code",
   "execution_count": 26,
   "metadata": {},
   "outputs": [
    {
     "data": {
      "text/plain": [
       "0.6587649999999999"
      ]
     },
     "execution_count": 26,
     "metadata": {},
     "output_type": "execute_result"
    }
   ],
   "source": [
    "#get the best performing model\n",
    "y = max(scores_df['Classifier_score'])\n",
    "y        "
   ]
  },
  {
   "cell_type": "code",
   "execution_count": 27,
   "metadata": {},
   "outputs": [
    {
     "data": {
      "text/plain": [
       "Text(-1, 10, 'Best performing model')"
      ]
     },
     "execution_count": 27,
     "metadata": {},
     "output_type": "execute_result"
    },
    {
     "data": {
      "image/png": "[encoded data removed]",
      "text/plain": [
       "<Figure size 360x360 with 1 Axes>"
      ]
     },
     "metadata": {
      "needs_background": "light"
     },
     "output_type": "display_data"
    }
   ],
   "source": [
    "#Plot scores using seaborn\n",
    "g = sns.catplot(x='Classifier_name', y='Classifier_score', kind = 'bar', data = scores_df)\n",
    "g.set_xticklabels(rotation=30)\n",
    "ax=plt.gca()  \n",
    "ax.axhline(y= y)\n",
    "plt.ylim(0.50, 0.70)\n",
    "plt.scatter(0, y, marker='', s=100)\n",
    "plt.annotate('Best performing model', # this is the text\n",
    "            (0,y), # this is the point to label\n",
    "            textcoords=\"offset points\", # how to position the text\n",
    "            xytext=(-1,10), # distance from text to points (x,y)\n",
    "            ha='center') # horizontal alignment can be left, right or center"
   ]
  },
  {
   "cell_type": "code",
   "execution_count": 28,
   "metadata": {},
   "outputs": [
    {
     "data": {
      "image/png": "[encoded data removed]",
      "text/plain": [
       "<Figure size 720x360 with 1 Axes>"
      ]
     },
     "metadata": {
      "needs_background": "light"
     },
     "output_type": "display_data"
    }
   ],
   "source": [
    "x_values=scores_df[\"Classifier_name\"]\n",
    "y_values=scores_df['Classifier_score']\n",
    "plt.figure(figsize=(10,5))\n",
    "plt.bar(x_values, y_values, label=\"Classifiers\")\n",
    "plt.xlabel('Classifier_name')\n",
    "plt.xticks( scores_df['Classifier_name'], rotation=30) \n",
    "plt.ylabel(\"Classifier_score\")\n",
    "plt.title('Classifiers scores compared')\n",
    "plt.show()"
   ]
  },
  {
   "cell_type": "markdown",
   "metadata": {},
   "source": [
    "True negatives and true positives are samples that were correctly classified\n",
    "\n",
    "Accuracy is the percentage of examples correctly classified "
   ]
  },
  {
   "cell_type": "code",
   "execution_count": null,
   "metadata": {},
   "outputs": [],
   "source": []
  },
  {
   "cell_type": "code",
   "execution_count": null,
   "metadata": {},
   "outputs": [],
   "source": []
  }
 ],
 "metadata": {
  "kernelspec": {
   "display_name": "Python [conda env:learn-env] *",
   "language": "python",
   "name": "conda-env-learn-env-py"
  },
  "language_info": {
   "codemirror_mode": {
    "name": "ipython",
    "version": 3
   },
   "file_extension": ".py",
   "mimetype": "text/x-python",
   "name": "python",
   "nbconvert_exporter": "python",
   "pygments_lexer": "ipython3",
   "version": "3.6.9"
  }
 },
 "nbformat": 4,
 "nbformat_minor": 2
}
